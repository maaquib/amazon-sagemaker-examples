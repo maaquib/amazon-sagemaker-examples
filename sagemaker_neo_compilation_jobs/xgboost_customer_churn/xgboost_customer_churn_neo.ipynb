{
 "cells": [
  {
   "cell_type": "markdown",
   "id": "roman-processor",
   "metadata": {
    "papermill": {
     "duration": 0.022949,
     "end_time": "2021-06-14T00:09:30.747509",
     "exception": false,
     "start_time": "2021-06-14T00:09:30.724560",
     "status": "completed"
    },
    "tags": []
   },
   "source": [
    "# Customer Churn Prediction with XGBoost\n",
    "_**Using Gradient Boosted Trees to Predict Mobile Customer Departure**_\n",
    "\n",
    "---\n",
    "\n",
    "---\n",
    "\n",
    "## Contents\n",
    "\n",
    "1. [Background](#Background)\n",
    "1. [Setup](#Setup)\n",
    "1. [Data](#Data)\n",
    "1. [Train](#Train)\n",
    "1. [Host](#Host)\n",
    "  1. [Evaluate](#Evaluate)\n",
    "  1. [Relative cost of errors](#Relative-cost-of-errors)\n",
    "1. [Extensions](#Extensions)\n",
    "\n",
    "---\n",
    "\n",
    "## Background\n",
    "\n",
    "_This notebook has been adapted from an [AWS blog post](https://aws.amazon.com/blogs/ai/predicting-customer-churn-with-amazon-machine-learning/)_\n",
    "\n",
    "Losing customers is costly for any business.  Identifying unhappy customers early on gives you a chance to offer them incentives to stay.  This notebook describes using machine learning (ML) for the automated identification of unhappy customers, also known as customer churn prediction. ML models rarely give perfect predictions though, so this notebook is also about how to incorporate the relative costs of prediction mistakes when determining the financial outcome of using ML.\n",
    "\n",
    "We use an example of churn that is familiar to all of us–leaving a mobile phone operator.  Seems like I can always find fault with my provider du jour! And if my provider knows that I’m thinking of leaving, it can offer timely incentives–I can always use a phone upgrade or perhaps have a new feature activated–and I might just stick around. Incentives are often much more cost effective than losing and reacquiring a customer.\n",
    "\n",
    "---\n",
    "\n",
    "## Setup\n",
    "\n",
    "_This notebook was created and tested on an ml.m4.xlarge notebook instance. It assumes that the 'sagemaker' package is already installed in the environment._ \n",
    "\n",
    "_It has been tested on the following versions of important python packages:_\n",
    "\n",
    "_sagemaker>=2.14_,\n",
    "_pandas==1.1.2_"
   ]
  },
  {
   "cell_type": "code",
   "execution_count": 1,
   "id": "rational-healthcare",
   "metadata": {
    "execution": {
     "iopub.execute_input": "2021-06-14T00:09:30.795168Z",
     "iopub.status.busy": "2021-06-14T00:09:30.794695Z",
     "iopub.status.idle": "2021-06-14T00:09:31.284456Z",
     "shell.execute_reply": "2021-06-14T00:09:31.283884Z"
    },
    "papermill": {
     "duration": 0.515247,
     "end_time": "2021-06-14T00:09:31.284570",
     "exception": false,
     "start_time": "2021-06-14T00:09:30.769323",
     "status": "completed"
    },
    "tags": []
   },
   "outputs": [],
   "source": [
    "import sys\n",
    "import sagemaker\n",
    "import importlib\n",
    "\n",
    "orig_sm_version = sagemaker.__version__\n",
    "\n",
    "with open(\"orig_sm_version.txt\", \"w\") as f:\n",
    "    f.write(orig_sm_version)"
   ]
  },
  {
   "cell_type": "markdown",
   "id": "australian-nickel",
   "metadata": {
    "papermill": {
     "duration": 0.021896,
     "end_time": "2021-06-14T00:09:31.328436",
     "exception": false,
     "start_time": "2021-06-14T00:09:31.306540",
     "status": "completed"
    },
    "tags": []
   },
   "source": [
    "### Please restart the kernel to use the updated sagemaker package and continue below"
   ]
  },
  {
   "cell_type": "markdown",
   "id": "subtle-setup",
   "metadata": {
    "papermill": {
     "duration": 0.021688,
     "end_time": "2021-06-14T00:09:31.371897",
     "exception": false,
     "start_time": "2021-06-14T00:09:31.350209",
     "status": "completed"
    },
    "tags": []
   },
   "source": [
    "\n",
    "Let's start by specifying:\n",
    "\n",
    "- The S3 bucket and prefix that you want to use for training and model data.  This should be within the same region as the Notebook Instance, training, and hosting.\n",
    "- The IAM role arn used to give training and hosting access to your data. See the documentation for how to create these.  Note, if more than one role is required for notebook instances, training, and/or hosting, please replace the boto regexp with a the appropriate full IAM role arn string(s)."
   ]
  },
  {
   "cell_type": "code",
   "execution_count": 2,
   "id": "russian-credits",
   "metadata": {
    "execution": {
     "iopub.execute_input": "2021-06-14T00:09:31.428813Z",
     "iopub.status.busy": "2021-06-14T00:09:31.428304Z",
     "iopub.status.idle": "2021-06-14T00:09:32.129534Z",
     "shell.execute_reply": "2021-06-14T00:09:32.129923Z"
    },
    "isConfigCell": true,
    "papermill": {
     "duration": 0.73621,
     "end_time": "2021-06-14T00:09:32.130065",
     "exception": false,
     "start_time": "2021-06-14T00:09:31.393855",
     "status": "completed"
    },
    "tags": []
   },
   "outputs": [],
   "source": [
    "# Define IAM role\n",
    "import boto3\n",
    "import re\n",
    "import sagemaker\n",
    "\n",
    "role = sagemaker.get_execution_role()\n",
    "sess = sagemaker.Session()\n",
    "bucket = sess.default_bucket()\n",
    "prefix = \"DEMO-xgboost-churn\""
   ]
  },
  {
   "cell_type": "markdown",
   "id": "pressed-defensive",
   "metadata": {
    "papermill": {
     "duration": 0.021842,
     "end_time": "2021-06-14T00:09:32.173943",
     "exception": false,
     "start_time": "2021-06-14T00:09:32.152101",
     "status": "completed"
    },
    "tags": []
   },
   "source": [
    "Next, we'll import the Python libraries we'll need for the remainder of the exercise."
   ]
  },
  {
   "cell_type": "code",
   "execution_count": 3,
   "id": "environmental-shopper",
   "metadata": {
    "execution": {
     "iopub.execute_input": "2021-06-14T00:09:32.222094Z",
     "iopub.status.busy": "2021-06-14T00:09:32.221336Z",
     "iopub.status.idle": "2021-06-14T00:09:32.917508Z",
     "shell.execute_reply": "2021-06-14T00:09:32.917888Z"
    },
    "papermill": {
     "duration": 0.722397,
     "end_time": "2021-06-14T00:09:32.918051",
     "exception": false,
     "start_time": "2021-06-14T00:09:32.195654",
     "status": "completed"
    },
    "tags": []
   },
   "outputs": [],
   "source": [
    "import pandas as pd\n",
    "import numpy as np\n",
    "import matplotlib.pyplot as plt\n",
    "import io\n",
    "import os\n",
    "import sys\n",
    "import time\n",
    "import json\n",
    "from IPython.display import display\n",
    "from time import strftime, gmtime\n",
    "from sagemaker.serializers import CSVSerializer"
   ]
  },
  {
   "cell_type": "markdown",
   "id": "rotary-seventh",
   "metadata": {
    "papermill": {
     "duration": 0.022361,
     "end_time": "2021-06-14T00:09:32.962667",
     "exception": false,
     "start_time": "2021-06-14T00:09:32.940306",
     "status": "completed"
    },
    "tags": []
   },
   "source": [
    "---\n",
    "## Data\n",
    "\n",
    "Mobile operators have historical records on which customers ultimately ended up churning and which continued using the service. We can use this historical information to construct an ML model of one mobile operator’s churn using a process called training. After training the model, we can pass the profile information of an arbitrary customer (the same profile information that we used to train the model) to the model, and have the model predict whether this customer is going to churn. Of course, we expect the model to make mistakes–after all, predicting the future is tricky business! But I’ll also show how to deal with prediction errors.\n",
    "\n",
    "The dataset we will use is synthetically generated, but indictive of the types of features you'd see in this use case."
   ]
  },
  {
   "cell_type": "code",
   "execution_count": 4,
   "id": "flush-survival",
   "metadata": {
    "execution": {
     "iopub.execute_input": "2021-06-14T00:09:33.011638Z",
     "iopub.status.busy": "2021-06-14T00:09:33.010961Z",
     "iopub.status.idle": "2021-06-14T00:09:34.783909Z",
     "shell.execute_reply": "2021-06-14T00:09:34.783458Z"
    },
    "papermill": {
     "duration": 1.799179,
     "end_time": "2021-06-14T00:09:34.784024",
     "exception": false,
     "start_time": "2021-06-14T00:09:32.984845",
     "status": "completed"
    },
    "tags": []
   },
   "outputs": [
    {
     "name": "stdout",
     "output_type": "stream",
     "text": [
      "download: s3://sagemaker-sample-files/datasets/tabular/synthetic/churn.txt to ./churn.txt\n"
     ]
    }
   ],
   "source": [
    "!aws s3 cp s3://sagemaker-sample-files/datasets/tabular/synthetic/churn.txt ./"
   ]
  },
  {
   "cell_type": "code",
   "execution_count": 5,
   "id": "organizational-breed",
   "metadata": {
    "execution": {
     "iopub.execute_input": "2021-06-14T00:09:34.836200Z",
     "iopub.status.busy": "2021-06-14T00:09:34.835687Z",
     "iopub.status.idle": "2021-06-14T00:09:34.882813Z",
     "shell.execute_reply": "2021-06-14T00:09:34.882404Z"
    },
    "papermill": {
     "duration": 0.075629,
     "end_time": "2021-06-14T00:09:34.882929",
     "exception": false,
     "start_time": "2021-06-14T00:09:34.807300",
     "status": "completed"
    },
    "tags": []
   },
   "outputs": [
    {
     "data": {
      "text/html": [
       "<div>\n",
       "<style scoped>\n",
       "    .dataframe tbody tr th:only-of-type {\n",
       "        vertical-align: middle;\n",
       "    }\n",
       "\n",
       "    .dataframe tbody tr th {\n",
       "        vertical-align: top;\n",
       "    }\n",
       "\n",
       "    .dataframe thead th {\n",
       "        text-align: right;\n",
       "    }\n",
       "</style>\n",
       "<table border=\"1\" class=\"dataframe\">\n",
       "  <thead>\n",
       "    <tr style=\"text-align: right;\">\n",
       "      <th></th>\n",
       "      <th>State</th>\n",
       "      <th>Account Length</th>\n",
       "      <th>Area Code</th>\n",
       "      <th>Phone</th>\n",
       "      <th>Int'l Plan</th>\n",
       "      <th>VMail Plan</th>\n",
       "      <th>VMail Message</th>\n",
       "      <th>Day Mins</th>\n",
       "      <th>Day Calls</th>\n",
       "      <th>Day Charge</th>\n",
       "      <th>Eve Mins</th>\n",
       "      <th>Eve Calls</th>\n",
       "      <th>Eve Charge</th>\n",
       "      <th>Night Mins</th>\n",
       "      <th>Night Calls</th>\n",
       "      <th>Night Charge</th>\n",
       "      <th>Intl Mins</th>\n",
       "      <th>Intl Calls</th>\n",
       "      <th>Intl Charge</th>\n",
       "      <th>CustServ Calls</th>\n",
       "      <th>Churn?</th>\n",
       "    </tr>\n",
       "  </thead>\n",
       "  <tbody>\n",
       "    <tr>\n",
       "      <th>0</th>\n",
       "      <td>PA</td>\n",
       "      <td>163</td>\n",
       "      <td>806</td>\n",
       "      <td>403-2562</td>\n",
       "      <td>no</td>\n",
       "      <td>yes</td>\n",
       "      <td>300</td>\n",
       "      <td>8.162204</td>\n",
       "      <td>3</td>\n",
       "      <td>7.579174</td>\n",
       "      <td>3.933035</td>\n",
       "      <td>4</td>\n",
       "      <td>6.508639</td>\n",
       "      <td>4.065759</td>\n",
       "      <td>100</td>\n",
       "      <td>5.111624</td>\n",
       "      <td>4.928160</td>\n",
       "      <td>6</td>\n",
       "      <td>5.673203</td>\n",
       "      <td>3</td>\n",
       "      <td>True.</td>\n",
       "    </tr>\n",
       "    <tr>\n",
       "      <th>1</th>\n",
       "      <td>SC</td>\n",
       "      <td>15</td>\n",
       "      <td>836</td>\n",
       "      <td>158-8416</td>\n",
       "      <td>yes</td>\n",
       "      <td>no</td>\n",
       "      <td>0</td>\n",
       "      <td>10.018993</td>\n",
       "      <td>4</td>\n",
       "      <td>4.226289</td>\n",
       "      <td>2.325005</td>\n",
       "      <td>0</td>\n",
       "      <td>9.972592</td>\n",
       "      <td>7.141040</td>\n",
       "      <td>200</td>\n",
       "      <td>6.436188</td>\n",
       "      <td>3.221748</td>\n",
       "      <td>6</td>\n",
       "      <td>2.559749</td>\n",
       "      <td>8</td>\n",
       "      <td>False.</td>\n",
       "    </tr>\n",
       "    <tr>\n",
       "      <th>2</th>\n",
       "      <td>MO</td>\n",
       "      <td>131</td>\n",
       "      <td>777</td>\n",
       "      <td>896-6253</td>\n",
       "      <td>no</td>\n",
       "      <td>yes</td>\n",
       "      <td>300</td>\n",
       "      <td>4.708490</td>\n",
       "      <td>3</td>\n",
       "      <td>4.768160</td>\n",
       "      <td>4.537466</td>\n",
       "      <td>3</td>\n",
       "      <td>4.566715</td>\n",
       "      <td>5.363235</td>\n",
       "      <td>100</td>\n",
       "      <td>5.142451</td>\n",
       "      <td>7.139023</td>\n",
       "      <td>2</td>\n",
       "      <td>6.254157</td>\n",
       "      <td>4</td>\n",
       "      <td>False.</td>\n",
       "    </tr>\n",
       "    <tr>\n",
       "      <th>3</th>\n",
       "      <td>WY</td>\n",
       "      <td>75</td>\n",
       "      <td>878</td>\n",
       "      <td>817-5729</td>\n",
       "      <td>yes</td>\n",
       "      <td>yes</td>\n",
       "      <td>700</td>\n",
       "      <td>1.268734</td>\n",
       "      <td>3</td>\n",
       "      <td>2.567642</td>\n",
       "      <td>2.528748</td>\n",
       "      <td>5</td>\n",
       "      <td>2.333624</td>\n",
       "      <td>3.773586</td>\n",
       "      <td>450</td>\n",
       "      <td>3.814413</td>\n",
       "      <td>2.245779</td>\n",
       "      <td>6</td>\n",
       "      <td>1.080692</td>\n",
       "      <td>6</td>\n",
       "      <td>False.</td>\n",
       "    </tr>\n",
       "    <tr>\n",
       "      <th>4</th>\n",
       "      <td>WY</td>\n",
       "      <td>146</td>\n",
       "      <td>878</td>\n",
       "      <td>450-4942</td>\n",
       "      <td>yes</td>\n",
       "      <td>no</td>\n",
       "      <td>0</td>\n",
       "      <td>2.696177</td>\n",
       "      <td>3</td>\n",
       "      <td>5.908916</td>\n",
       "      <td>6.015337</td>\n",
       "      <td>3</td>\n",
       "      <td>3.670408</td>\n",
       "      <td>3.751673</td>\n",
       "      <td>250</td>\n",
       "      <td>2.796812</td>\n",
       "      <td>6.905545</td>\n",
       "      <td>4</td>\n",
       "      <td>7.134343</td>\n",
       "      <td>6</td>\n",
       "      <td>True.</td>\n",
       "    </tr>\n",
       "    <tr>\n",
       "      <th>...</th>\n",
       "      <td>...</td>\n",
       "      <td>...</td>\n",
       "      <td>...</td>\n",
       "      <td>...</td>\n",
       "      <td>...</td>\n",
       "      <td>...</td>\n",
       "      <td>...</td>\n",
       "      <td>...</td>\n",
       "      <td>...</td>\n",
       "      <td>...</td>\n",
       "      <td>...</td>\n",
       "      <td>...</td>\n",
       "      <td>...</td>\n",
       "      <td>...</td>\n",
       "      <td>...</td>\n",
       "      <td>...</td>\n",
       "      <td>...</td>\n",
       "      <td>...</td>\n",
       "      <td>...</td>\n",
       "      <td>...</td>\n",
       "      <td>...</td>\n",
       "    </tr>\n",
       "    <tr>\n",
       "      <th>4995</th>\n",
       "      <td>NH</td>\n",
       "      <td>4</td>\n",
       "      <td>787</td>\n",
       "      <td>151-3162</td>\n",
       "      <td>yes</td>\n",
       "      <td>yes</td>\n",
       "      <td>800</td>\n",
       "      <td>10.862632</td>\n",
       "      <td>5</td>\n",
       "      <td>7.250969</td>\n",
       "      <td>6.936164</td>\n",
       "      <td>1</td>\n",
       "      <td>8.026482</td>\n",
       "      <td>4.921314</td>\n",
       "      <td>350</td>\n",
       "      <td>6.748489</td>\n",
       "      <td>4.872570</td>\n",
       "      <td>8</td>\n",
       "      <td>2.122530</td>\n",
       "      <td>9</td>\n",
       "      <td>False.</td>\n",
       "    </tr>\n",
       "    <tr>\n",
       "      <th>4996</th>\n",
       "      <td>SD</td>\n",
       "      <td>140</td>\n",
       "      <td>836</td>\n",
       "      <td>351-5993</td>\n",
       "      <td>no</td>\n",
       "      <td>no</td>\n",
       "      <td>0</td>\n",
       "      <td>1.581127</td>\n",
       "      <td>8</td>\n",
       "      <td>3.758307</td>\n",
       "      <td>7.377591</td>\n",
       "      <td>7</td>\n",
       "      <td>1.328827</td>\n",
       "      <td>0.939932</td>\n",
       "      <td>300</td>\n",
       "      <td>4.522661</td>\n",
       "      <td>6.938571</td>\n",
       "      <td>2</td>\n",
       "      <td>4.600473</td>\n",
       "      <td>4</td>\n",
       "      <td>False.</td>\n",
       "    </tr>\n",
       "    <tr>\n",
       "      <th>4997</th>\n",
       "      <td>SC</td>\n",
       "      <td>32</td>\n",
       "      <td>836</td>\n",
       "      <td>370-3127</td>\n",
       "      <td>no</td>\n",
       "      <td>yes</td>\n",
       "      <td>700</td>\n",
       "      <td>0.163836</td>\n",
       "      <td>5</td>\n",
       "      <td>4.243980</td>\n",
       "      <td>5.841852</td>\n",
       "      <td>3</td>\n",
       "      <td>2.340554</td>\n",
       "      <td>0.939469</td>\n",
       "      <td>450</td>\n",
       "      <td>5.157898</td>\n",
       "      <td>4.388328</td>\n",
       "      <td>7</td>\n",
       "      <td>1.060340</td>\n",
       "      <td>6</td>\n",
       "      <td>False.</td>\n",
       "    </tr>\n",
       "    <tr>\n",
       "      <th>4998</th>\n",
       "      <td>MA</td>\n",
       "      <td>142</td>\n",
       "      <td>776</td>\n",
       "      <td>604-2108</td>\n",
       "      <td>yes</td>\n",
       "      <td>yes</td>\n",
       "      <td>600</td>\n",
       "      <td>2.034454</td>\n",
       "      <td>5</td>\n",
       "      <td>3.014859</td>\n",
       "      <td>4.140554</td>\n",
       "      <td>3</td>\n",
       "      <td>3.470372</td>\n",
       "      <td>6.076043</td>\n",
       "      <td>150</td>\n",
       "      <td>4.362780</td>\n",
       "      <td>7.173376</td>\n",
       "      <td>3</td>\n",
       "      <td>4.871900</td>\n",
       "      <td>7</td>\n",
       "      <td>True.</td>\n",
       "    </tr>\n",
       "    <tr>\n",
       "      <th>4999</th>\n",
       "      <td>AL</td>\n",
       "      <td>141</td>\n",
       "      <td>657</td>\n",
       "      <td>294-2849</td>\n",
       "      <td>yes</td>\n",
       "      <td>yes</td>\n",
       "      <td>500</td>\n",
       "      <td>1.803907</td>\n",
       "      <td>0</td>\n",
       "      <td>5.125716</td>\n",
       "      <td>8.357508</td>\n",
       "      <td>0</td>\n",
       "      <td>2.109823</td>\n",
       "      <td>2.624299</td>\n",
       "      <td>400</td>\n",
       "      <td>3.713631</td>\n",
       "      <td>5.798783</td>\n",
       "      <td>6</td>\n",
       "      <td>5.485345</td>\n",
       "      <td>7</td>\n",
       "      <td>False.</td>\n",
       "    </tr>\n",
       "  </tbody>\n",
       "</table>\n",
       "<p>5000 rows × 21 columns</p>\n",
       "</div>"
      ],
      "text/plain": [
       "     State  Account Length  Area Code     Phone Int'l Plan VMail Plan  \\\n",
       "0       PA             163        806  403-2562         no        yes   \n",
       "1       SC              15        836  158-8416        yes         no   \n",
       "2       MO             131        777  896-6253         no        yes   \n",
       "3       WY              75        878  817-5729        yes        yes   \n",
       "4       WY             146        878  450-4942        yes         no   \n",
       "...    ...             ...        ...       ...        ...        ...   \n",
       "4995    NH               4        787  151-3162        yes        yes   \n",
       "4996    SD             140        836  351-5993         no         no   \n",
       "4997    SC              32        836  370-3127         no        yes   \n",
       "4998    MA             142        776  604-2108        yes        yes   \n",
       "4999    AL             141        657  294-2849        yes        yes   \n",
       "\n",
       "      VMail Message   Day Mins  Day Calls  Day Charge  Eve Mins  Eve Calls  \\\n",
       "0               300   8.162204          3    7.579174  3.933035          4   \n",
       "1                 0  10.018993          4    4.226289  2.325005          0   \n",
       "2               300   4.708490          3    4.768160  4.537466          3   \n",
       "3               700   1.268734          3    2.567642  2.528748          5   \n",
       "4                 0   2.696177          3    5.908916  6.015337          3   \n",
       "...             ...        ...        ...         ...       ...        ...   \n",
       "4995            800  10.862632          5    7.250969  6.936164          1   \n",
       "4996              0   1.581127          8    3.758307  7.377591          7   \n",
       "4997            700   0.163836          5    4.243980  5.841852          3   \n",
       "4998            600   2.034454          5    3.014859  4.140554          3   \n",
       "4999            500   1.803907          0    5.125716  8.357508          0   \n",
       "\n",
       "      Eve Charge  Night Mins  Night Calls  Night Charge  Intl Mins  \\\n",
       "0       6.508639    4.065759          100      5.111624   4.928160   \n",
       "1       9.972592    7.141040          200      6.436188   3.221748   \n",
       "2       4.566715    5.363235          100      5.142451   7.139023   \n",
       "3       2.333624    3.773586          450      3.814413   2.245779   \n",
       "4       3.670408    3.751673          250      2.796812   6.905545   \n",
       "...          ...         ...          ...           ...        ...   \n",
       "4995    8.026482    4.921314          350      6.748489   4.872570   \n",
       "4996    1.328827    0.939932          300      4.522661   6.938571   \n",
       "4997    2.340554    0.939469          450      5.157898   4.388328   \n",
       "4998    3.470372    6.076043          150      4.362780   7.173376   \n",
       "4999    2.109823    2.624299          400      3.713631   5.798783   \n",
       "\n",
       "      Intl Calls  Intl Charge  CustServ Calls  Churn?  \n",
       "0              6     5.673203               3   True.  \n",
       "1              6     2.559749               8  False.  \n",
       "2              2     6.254157               4  False.  \n",
       "3              6     1.080692               6  False.  \n",
       "4              4     7.134343               6   True.  \n",
       "...          ...          ...             ...     ...  \n",
       "4995           8     2.122530               9  False.  \n",
       "4996           2     4.600473               4  False.  \n",
       "4997           7     1.060340               6  False.  \n",
       "4998           3     4.871900               7   True.  \n",
       "4999           6     5.485345               7  False.  \n",
       "\n",
       "[5000 rows x 21 columns]"
      ]
     },
     "execution_count": 5,
     "metadata": {},
     "output_type": "execute_result"
    }
   ],
   "source": [
    "churn = pd.read_csv(\"./churn.txt\")\n",
    "pd.set_option(\"display.max_columns\", 500)\n",
    "churn"
   ]
  },
  {
   "cell_type": "markdown",
   "id": "great-collect",
   "metadata": {
    "papermill": {
     "duration": 0.023679,
     "end_time": "2021-06-14T00:09:34.930751",
     "exception": false,
     "start_time": "2021-06-14T00:09:34.907072",
     "status": "completed"
    },
    "tags": []
   },
   "source": [
    "By modern standards, it’s a relatively small dataset, with only 5,000 records, where each record uses 21 attributes to describe the profile of a customer of an unknown US mobile operator. The attributes are:\n",
    "\n",
    "- `State`: the US state in which the customer resides, indicated by a two-letter abbreviation; for example, OH or NJ\n",
    "- `Account Length`: the number of days that this account has been active\n",
    "- `Area Code`: the three-digit area code of the corresponding customer’s phone number\n",
    "- `Phone`: the remaining seven-digit phone number\n",
    "- `Int’l Plan`: whether the customer has an international calling plan: yes/no\n",
    "- `VMail Plan`: whether the customer has a voice mail feature: yes/no\n",
    "- `VMail Message`: presumably the average number of voice mail messages per month\n",
    "- `Day Mins`: the total number of calling minutes used during the day\n",
    "- `Day Calls`: the total number of calls placed during the day\n",
    "- `Day Charge`: the billed cost of daytime calls\n",
    "- `Eve Mins, Eve Calls, Eve Charge`: the billed cost for calls placed during the evening\n",
    "- `Night Mins`, `Night Calls`, `Night Charge`: the billed cost for calls placed during nighttime\n",
    "- `Intl Mins`, `Intl Calls`, `Intl Charge`: the billed cost for international calls\n",
    "- `CustServ Calls`: the number of calls placed to Customer Service\n",
    "- `Churn?`: whether the customer left the service: true/false\n",
    "\n",
    "The last attribute, `Churn?`, is known as the target attribute–the attribute that we want the ML model to predict.  Because the target attribute is binary, our model will be performing binary prediction, also known as binary classification.\n",
    "\n",
    "Let's begin exploring the data:"
   ]
  },
  {
   "cell_type": "code",
   "execution_count": 6,
   "id": "faced-shift",
   "metadata": {},
   "outputs": [
    {
     "data": {
      "text/html": [
       "<div>\n",
       "<style scoped>\n",
       "    .dataframe tbody tr th:only-of-type {\n",
       "        vertical-align: middle;\n",
       "    }\n",
       "\n",
       "    .dataframe tbody tr th {\n",
       "        vertical-align: top;\n",
       "    }\n",
       "\n",
       "    .dataframe thead th {\n",
       "        text-align: right;\n",
       "    }\n",
       "</style>\n",
       "<table border=\"1\" class=\"dataframe\">\n",
       "  <thead>\n",
       "    <tr style=\"text-align: right;\">\n",
       "      <th></th>\n",
       "      <th>Account Length</th>\n",
       "      <th>Area Code</th>\n",
       "      <th>VMail Message</th>\n",
       "      <th>Day Mins</th>\n",
       "      <th>Day Calls</th>\n",
       "      <th>Day Charge</th>\n",
       "      <th>Eve Mins</th>\n",
       "      <th>Eve Calls</th>\n",
       "      <th>Eve Charge</th>\n",
       "      <th>Night Mins</th>\n",
       "      <th>Night Calls</th>\n",
       "      <th>Night Charge</th>\n",
       "      <th>Intl Mins</th>\n",
       "      <th>Intl Calls</th>\n",
       "      <th>Intl Charge</th>\n",
       "      <th>CustServ Calls</th>\n",
       "    </tr>\n",
       "  </thead>\n",
       "  <tbody>\n",
       "    <tr>\n",
       "      <th>count</th>\n",
       "      <td>5000.000000</td>\n",
       "      <td>5000.000000</td>\n",
       "      <td>5000.000000</td>\n",
       "      <td>5000.000000</td>\n",
       "      <td>5000.00000</td>\n",
       "      <td>5000.000000</td>\n",
       "      <td>5000.000000</td>\n",
       "      <td>5000.000000</td>\n",
       "      <td>5000.000000</td>\n",
       "      <td>5000.000000</td>\n",
       "      <td>5000.000000</td>\n",
       "      <td>5000.000000</td>\n",
       "      <td>5000.000000</td>\n",
       "      <td>5000.000000</td>\n",
       "      <td>5000.000000</td>\n",
       "      <td>5000.000000</td>\n",
       "    </tr>\n",
       "    <tr>\n",
       "      <th>mean</th>\n",
       "      <td>101.675800</td>\n",
       "      <td>773.791400</td>\n",
       "      <td>226.680000</td>\n",
       "      <td>5.518757</td>\n",
       "      <td>3.50460</td>\n",
       "      <td>5.018902</td>\n",
       "      <td>5.026199</td>\n",
       "      <td>3.140400</td>\n",
       "      <td>5.017557</td>\n",
       "      <td>4.000917</td>\n",
       "      <td>224.790000</td>\n",
       "      <td>5.023490</td>\n",
       "      <td>5.025876</td>\n",
       "      <td>5.475400</td>\n",
       "      <td>4.328242</td>\n",
       "      <td>5.525800</td>\n",
       "    </tr>\n",
       "    <tr>\n",
       "      <th>std</th>\n",
       "      <td>57.596762</td>\n",
       "      <td>63.470888</td>\n",
       "      <td>273.998527</td>\n",
       "      <td>3.433485</td>\n",
       "      <td>1.68812</td>\n",
       "      <td>2.195759</td>\n",
       "      <td>2.135487</td>\n",
       "      <td>2.525621</td>\n",
       "      <td>2.127857</td>\n",
       "      <td>1.631001</td>\n",
       "      <td>97.302875</td>\n",
       "      <td>1.748900</td>\n",
       "      <td>1.019302</td>\n",
       "      <td>1.877045</td>\n",
       "      <td>2.440311</td>\n",
       "      <td>2.041217</td>\n",
       "    </tr>\n",
       "    <tr>\n",
       "      <th>min</th>\n",
       "      <td>1.000000</td>\n",
       "      <td>657.000000</td>\n",
       "      <td>0.000000</td>\n",
       "      <td>0.000215</td>\n",
       "      <td>0.00000</td>\n",
       "      <td>0.004777</td>\n",
       "      <td>0.004659</td>\n",
       "      <td>0.000000</td>\n",
       "      <td>0.013573</td>\n",
       "      <td>0.008468</td>\n",
       "      <td>0.000000</td>\n",
       "      <td>0.054863</td>\n",
       "      <td>1.648514</td>\n",
       "      <td>0.000000</td>\n",
       "      <td>0.000769</td>\n",
       "      <td>0.000000</td>\n",
       "    </tr>\n",
       "    <tr>\n",
       "      <th>25%</th>\n",
       "      <td>52.000000</td>\n",
       "      <td>736.000000</td>\n",
       "      <td>0.000000</td>\n",
       "      <td>2.682384</td>\n",
       "      <td>2.00000</td>\n",
       "      <td>3.470151</td>\n",
       "      <td>3.588466</td>\n",
       "      <td>1.000000</td>\n",
       "      <td>3.529613</td>\n",
       "      <td>2.921998</td>\n",
       "      <td>150.000000</td>\n",
       "      <td>3.873157</td>\n",
       "      <td>4.349726</td>\n",
       "      <td>4.000000</td>\n",
       "      <td>2.468225</td>\n",
       "      <td>4.000000</td>\n",
       "    </tr>\n",
       "    <tr>\n",
       "      <th>50%</th>\n",
       "      <td>102.000000</td>\n",
       "      <td>778.000000</td>\n",
       "      <td>0.000000</td>\n",
       "      <td>5.336245</td>\n",
       "      <td>3.00000</td>\n",
       "      <td>4.988291</td>\n",
       "      <td>5.145656</td>\n",
       "      <td>3.000000</td>\n",
       "      <td>5.006860</td>\n",
       "      <td>3.962089</td>\n",
       "      <td>200.000000</td>\n",
       "      <td>5.169154</td>\n",
       "      <td>5.034905</td>\n",
       "      <td>5.000000</td>\n",
       "      <td>4.214058</td>\n",
       "      <td>6.000000</td>\n",
       "    </tr>\n",
       "    <tr>\n",
       "      <th>75%</th>\n",
       "      <td>151.000000</td>\n",
       "      <td>806.000000</td>\n",
       "      <td>400.000000</td>\n",
       "      <td>7.936151</td>\n",
       "      <td>5.00000</td>\n",
       "      <td>6.559750</td>\n",
       "      <td>6.552962</td>\n",
       "      <td>5.000000</td>\n",
       "      <td>6.491725</td>\n",
       "      <td>5.100128</td>\n",
       "      <td>300.000000</td>\n",
       "      <td>6.272015</td>\n",
       "      <td>5.716386</td>\n",
       "      <td>7.000000</td>\n",
       "      <td>5.960654</td>\n",
       "      <td>7.000000</td>\n",
       "    </tr>\n",
       "    <tr>\n",
       "      <th>max</th>\n",
       "      <td>200.000000</td>\n",
       "      <td>878.000000</td>\n",
       "      <td>1300.000000</td>\n",
       "      <td>16.897529</td>\n",
       "      <td>10.00000</td>\n",
       "      <td>12.731936</td>\n",
       "      <td>13.622097</td>\n",
       "      <td>14.000000</td>\n",
       "      <td>12.352871</td>\n",
       "      <td>10.183378</td>\n",
       "      <td>550.000000</td>\n",
       "      <td>10.407778</td>\n",
       "      <td>8.405644</td>\n",
       "      <td>12.000000</td>\n",
       "      <td>14.212261</td>\n",
       "      <td>13.000000</td>\n",
       "    </tr>\n",
       "  </tbody>\n",
       "</table>\n",
       "</div>"
      ],
      "text/plain": [
       "       Account Length    Area Code  VMail Message     Day Mins   Day Calls  \\\n",
       "count     5000.000000  5000.000000    5000.000000  5000.000000  5000.00000   \n",
       "mean       101.675800   773.791400     226.680000     5.518757     3.50460   \n",
       "std         57.596762    63.470888     273.998527     3.433485     1.68812   \n",
       "min          1.000000   657.000000       0.000000     0.000215     0.00000   \n",
       "25%         52.000000   736.000000       0.000000     2.682384     2.00000   \n",
       "50%        102.000000   778.000000       0.000000     5.336245     3.00000   \n",
       "75%        151.000000   806.000000     400.000000     7.936151     5.00000   \n",
       "max        200.000000   878.000000    1300.000000    16.897529    10.00000   \n",
       "\n",
       "        Day Charge     Eve Mins    Eve Calls   Eve Charge   Night Mins  \\\n",
       "count  5000.000000  5000.000000  5000.000000  5000.000000  5000.000000   \n",
       "mean      5.018902     5.026199     3.140400     5.017557     4.000917   \n",
       "std       2.195759     2.135487     2.525621     2.127857     1.631001   \n",
       "min       0.004777     0.004659     0.000000     0.013573     0.008468   \n",
       "25%       3.470151     3.588466     1.000000     3.529613     2.921998   \n",
       "50%       4.988291     5.145656     3.000000     5.006860     3.962089   \n",
       "75%       6.559750     6.552962     5.000000     6.491725     5.100128   \n",
       "max      12.731936    13.622097    14.000000    12.352871    10.183378   \n",
       "\n",
       "       Night Calls  Night Charge    Intl Mins   Intl Calls  Intl Charge  \\\n",
       "count  5000.000000   5000.000000  5000.000000  5000.000000  5000.000000   \n",
       "mean    224.790000      5.023490     5.025876     5.475400     4.328242   \n",
       "std      97.302875      1.748900     1.019302     1.877045     2.440311   \n",
       "min       0.000000      0.054863     1.648514     0.000000     0.000769   \n",
       "25%     150.000000      3.873157     4.349726     4.000000     2.468225   \n",
       "50%     200.000000      5.169154     5.034905     5.000000     4.214058   \n",
       "75%     300.000000      6.272015     5.716386     7.000000     5.960654   \n",
       "max     550.000000     10.407778     8.405644    12.000000    14.212261   \n",
       "\n",
       "       CustServ Calls  \n",
       "count     5000.000000  \n",
       "mean         5.525800  \n",
       "std          2.041217  \n",
       "min          0.000000  \n",
       "25%          4.000000  \n",
       "50%          6.000000  \n",
       "75%          7.000000  \n",
       "max         13.000000  "
      ]
     },
     "execution_count": 6,
     "metadata": {},
     "output_type": "execute_result"
    }
   ],
   "source": [
    "churn.describe()"
   ]
  },
  {
   "cell_type": "markdown",
   "id": "expired-workstation",
   "metadata": {
    "papermill": {
     "duration": null,
     "end_time": null,
     "exception": null,
     "start_time": null,
     "status": "pending"
    },
    "tags": []
   },
   "source": [
    "We can see immediately that:\n",
    "- `State` appears to be quite evenly distributed\n",
    "- `Phone` takes on too many unique values to be of any practical use.  It's possible parsing out the prefix could have some value, but without more context on how these are allocated, we should avoid using it.\n",
    "- Most of the numeric features are surprisingly nicely distributed, with many showing bell-like gaussianity.  `VMail Message` being a notable exception (and `Area Code` showing up as a feature we should convert to non-numeric)."
   ]
  },
  {
   "cell_type": "code",
   "execution_count": 7,
   "id": "serial-charles",
   "metadata": {
    "papermill": {
     "duration": null,
     "end_time": null,
     "exception": null,
     "start_time": null,
     "status": "pending"
    },
    "tags": []
   },
   "outputs": [],
   "source": [
    "churn = churn.drop(\"Phone\", axis=1)\n",
    "churn[\"Area Code\"] = churn[\"Area Code\"].astype(object)"
   ]
  },
  {
   "cell_type": "markdown",
   "id": "perceived-parameter",
   "metadata": {
    "papermill": {
     "duration": null,
     "end_time": null,
     "exception": null,
     "start_time": null,
     "status": "pending"
    },
    "tags": []
   },
   "source": [
    "Next let's look at the relationship between each of the features and our target variable."
   ]
  },
  {
   "cell_type": "code",
   "execution_count": 8,
   "id": "married-differential",
   "metadata": {
    "papermill": {
     "duration": null,
     "end_time": null,
     "exception": null,
     "start_time": null,
     "status": "pending"
    },
    "tags": []
   },
   "outputs": [
    {
     "data": {
      "text/html": [
       "<div>\n",
       "<style scoped>\n",
       "    .dataframe tbody tr th:only-of-type {\n",
       "        vertical-align: middle;\n",
       "    }\n",
       "\n",
       "    .dataframe tbody tr th {\n",
       "        vertical-align: top;\n",
       "    }\n",
       "\n",
       "    .dataframe thead th {\n",
       "        text-align: right;\n",
       "    }\n",
       "</style>\n",
       "<table border=\"1\" class=\"dataframe\">\n",
       "  <thead>\n",
       "    <tr style=\"text-align: right;\">\n",
       "      <th>Churn?</th>\n",
       "      <th>False.</th>\n",
       "      <th>True.</th>\n",
       "    </tr>\n",
       "    <tr>\n",
       "      <th>State</th>\n",
       "      <th></th>\n",
       "      <th></th>\n",
       "    </tr>\n",
       "  </thead>\n",
       "  <tbody>\n",
       "    <tr>\n",
       "      <th>AK</th>\n",
       "      <td>0.015588</td>\n",
       "      <td>0.018415</td>\n",
       "    </tr>\n",
       "    <tr>\n",
       "      <th>AL</th>\n",
       "      <td>0.021583</td>\n",
       "      <td>0.018415</td>\n",
       "    </tr>\n",
       "    <tr>\n",
       "      <th>AR</th>\n",
       "      <td>0.022782</td>\n",
       "      <td>0.021217</td>\n",
       "    </tr>\n",
       "    <tr>\n",
       "      <th>AZ</th>\n",
       "      <td>0.015588</td>\n",
       "      <td>0.020416</td>\n",
       "    </tr>\n",
       "    <tr>\n",
       "      <th>CA</th>\n",
       "      <td>0.020384</td>\n",
       "      <td>0.021217</td>\n",
       "    </tr>\n",
       "    <tr>\n",
       "      <th>CO</th>\n",
       "      <td>0.018785</td>\n",
       "      <td>0.017614</td>\n",
       "    </tr>\n",
       "    <tr>\n",
       "      <th>CT</th>\n",
       "      <td>0.015588</td>\n",
       "      <td>0.020016</td>\n",
       "    </tr>\n",
       "    <tr>\n",
       "      <th>DC</th>\n",
       "      <td>0.022382</td>\n",
       "      <td>0.022418</td>\n",
       "    </tr>\n",
       "    <tr>\n",
       "      <th>DE</th>\n",
       "      <td>0.018385</td>\n",
       "      <td>0.018014</td>\n",
       "    </tr>\n",
       "    <tr>\n",
       "      <th>FL</th>\n",
       "      <td>0.019984</td>\n",
       "      <td>0.015612</td>\n",
       "    </tr>\n",
       "    <tr>\n",
       "      <th>GA</th>\n",
       "      <td>0.017986</td>\n",
       "      <td>0.015212</td>\n",
       "    </tr>\n",
       "    <tr>\n",
       "      <th>HI</th>\n",
       "      <td>0.019185</td>\n",
       "      <td>0.018815</td>\n",
       "    </tr>\n",
       "    <tr>\n",
       "      <th>IA</th>\n",
       "      <td>0.018385</td>\n",
       "      <td>0.022818</td>\n",
       "    </tr>\n",
       "    <tr>\n",
       "      <th>ID</th>\n",
       "      <td>0.021583</td>\n",
       "      <td>0.022818</td>\n",
       "    </tr>\n",
       "    <tr>\n",
       "      <th>IL</th>\n",
       "      <td>0.021982</td>\n",
       "      <td>0.017614</td>\n",
       "    </tr>\n",
       "    <tr>\n",
       "      <th>IN</th>\n",
       "      <td>0.021583</td>\n",
       "      <td>0.016413</td>\n",
       "    </tr>\n",
       "    <tr>\n",
       "      <th>KS</th>\n",
       "      <td>0.014788</td>\n",
       "      <td>0.016813</td>\n",
       "    </tr>\n",
       "    <tr>\n",
       "      <th>KY</th>\n",
       "      <td>0.017186</td>\n",
       "      <td>0.019215</td>\n",
       "    </tr>\n",
       "    <tr>\n",
       "      <th>LA</th>\n",
       "      <td>0.020783</td>\n",
       "      <td>0.019616</td>\n",
       "    </tr>\n",
       "    <tr>\n",
       "      <th>MA</th>\n",
       "      <td>0.021183</td>\n",
       "      <td>0.020416</td>\n",
       "    </tr>\n",
       "    <tr>\n",
       "      <th>MD</th>\n",
       "      <td>0.019584</td>\n",
       "      <td>0.025620</td>\n",
       "    </tr>\n",
       "    <tr>\n",
       "      <th>ME</th>\n",
       "      <td>0.013589</td>\n",
       "      <td>0.016013</td>\n",
       "    </tr>\n",
       "    <tr>\n",
       "      <th>MI</th>\n",
       "      <td>0.018785</td>\n",
       "      <td>0.021617</td>\n",
       "    </tr>\n",
       "    <tr>\n",
       "      <th>MN</th>\n",
       "      <td>0.022782</td>\n",
       "      <td>0.021217</td>\n",
       "    </tr>\n",
       "    <tr>\n",
       "      <th>MO</th>\n",
       "      <td>0.020783</td>\n",
       "      <td>0.021617</td>\n",
       "    </tr>\n",
       "    <tr>\n",
       "      <th>MS</th>\n",
       "      <td>0.019584</td>\n",
       "      <td>0.022818</td>\n",
       "    </tr>\n",
       "    <tr>\n",
       "      <th>MT</th>\n",
       "      <td>0.017586</td>\n",
       "      <td>0.018415</td>\n",
       "    </tr>\n",
       "    <tr>\n",
       "      <th>NC</th>\n",
       "      <td>0.017186</td>\n",
       "      <td>0.020817</td>\n",
       "    </tr>\n",
       "    <tr>\n",
       "      <th>ND</th>\n",
       "      <td>0.017186</td>\n",
       "      <td>0.014812</td>\n",
       "    </tr>\n",
       "    <tr>\n",
       "      <th>NE</th>\n",
       "      <td>0.019185</td>\n",
       "      <td>0.024420</td>\n",
       "    </tr>\n",
       "    <tr>\n",
       "      <th>NH</th>\n",
       "      <td>0.019984</td>\n",
       "      <td>0.017614</td>\n",
       "    </tr>\n",
       "    <tr>\n",
       "      <th>NJ</th>\n",
       "      <td>0.022382</td>\n",
       "      <td>0.018014</td>\n",
       "    </tr>\n",
       "    <tr>\n",
       "      <th>NM</th>\n",
       "      <td>0.017186</td>\n",
       "      <td>0.016013</td>\n",
       "    </tr>\n",
       "    <tr>\n",
       "      <th>NV</th>\n",
       "      <td>0.023181</td>\n",
       "      <td>0.016413</td>\n",
       "    </tr>\n",
       "    <tr>\n",
       "      <th>NY</th>\n",
       "      <td>0.015188</td>\n",
       "      <td>0.024019</td>\n",
       "    </tr>\n",
       "    <tr>\n",
       "      <th>OH</th>\n",
       "      <td>0.019185</td>\n",
       "      <td>0.025220</td>\n",
       "    </tr>\n",
       "    <tr>\n",
       "      <th>OK</th>\n",
       "      <td>0.021183</td>\n",
       "      <td>0.016013</td>\n",
       "    </tr>\n",
       "    <tr>\n",
       "      <th>OR</th>\n",
       "      <td>0.019185</td>\n",
       "      <td>0.021617</td>\n",
       "    </tr>\n",
       "    <tr>\n",
       "      <th>PA</th>\n",
       "      <td>0.018785</td>\n",
       "      <td>0.020817</td>\n",
       "    </tr>\n",
       "    <tr>\n",
       "      <th>RI</th>\n",
       "      <td>0.024380</td>\n",
       "      <td>0.023619</td>\n",
       "    </tr>\n",
       "    <tr>\n",
       "      <th>SC</th>\n",
       "      <td>0.021583</td>\n",
       "      <td>0.023619</td>\n",
       "    </tr>\n",
       "    <tr>\n",
       "      <th>SD</th>\n",
       "      <td>0.021583</td>\n",
       "      <td>0.019215</td>\n",
       "    </tr>\n",
       "    <tr>\n",
       "      <th>TN</th>\n",
       "      <td>0.021982</td>\n",
       "      <td>0.016813</td>\n",
       "    </tr>\n",
       "    <tr>\n",
       "      <th>TX</th>\n",
       "      <td>0.019185</td>\n",
       "      <td>0.020016</td>\n",
       "    </tr>\n",
       "    <tr>\n",
       "      <th>UT</th>\n",
       "      <td>0.018385</td>\n",
       "      <td>0.019616</td>\n",
       "    </tr>\n",
       "    <tr>\n",
       "      <th>VA</th>\n",
       "      <td>0.021183</td>\n",
       "      <td>0.018415</td>\n",
       "    </tr>\n",
       "    <tr>\n",
       "      <th>VT</th>\n",
       "      <td>0.022382</td>\n",
       "      <td>0.016413</td>\n",
       "    </tr>\n",
       "    <tr>\n",
       "      <th>WA</th>\n",
       "      <td>0.021982</td>\n",
       "      <td>0.018415</td>\n",
       "    </tr>\n",
       "    <tr>\n",
       "      <th>WI</th>\n",
       "      <td>0.018785</td>\n",
       "      <td>0.015212</td>\n",
       "    </tr>\n",
       "    <tr>\n",
       "      <th>WV</th>\n",
       "      <td>0.019584</td>\n",
       "      <td>0.022018</td>\n",
       "    </tr>\n",
       "    <tr>\n",
       "      <th>WY</th>\n",
       "      <td>0.020783</td>\n",
       "      <td>0.020416</td>\n",
       "    </tr>\n",
       "  </tbody>\n",
       "</table>\n",
       "</div>"
      ],
      "text/plain": [
       "Churn?    False.     True.\n",
       "State                     \n",
       "AK      0.015588  0.018415\n",
       "AL      0.021583  0.018415\n",
       "AR      0.022782  0.021217\n",
       "AZ      0.015588  0.020416\n",
       "CA      0.020384  0.021217\n",
       "CO      0.018785  0.017614\n",
       "CT      0.015588  0.020016\n",
       "DC      0.022382  0.022418\n",
       "DE      0.018385  0.018014\n",
       "FL      0.019984  0.015612\n",
       "GA      0.017986  0.015212\n",
       "HI      0.019185  0.018815\n",
       "IA      0.018385  0.022818\n",
       "ID      0.021583  0.022818\n",
       "IL      0.021982  0.017614\n",
       "IN      0.021583  0.016413\n",
       "KS      0.014788  0.016813\n",
       "KY      0.017186  0.019215\n",
       "LA      0.020783  0.019616\n",
       "MA      0.021183  0.020416\n",
       "MD      0.019584  0.025620\n",
       "ME      0.013589  0.016013\n",
       "MI      0.018785  0.021617\n",
       "MN      0.022782  0.021217\n",
       "MO      0.020783  0.021617\n",
       "MS      0.019584  0.022818\n",
       "MT      0.017586  0.018415\n",
       "NC      0.017186  0.020817\n",
       "ND      0.017186  0.014812\n",
       "NE      0.019185  0.024420\n",
       "NH      0.019984  0.017614\n",
       "NJ      0.022382  0.018014\n",
       "NM      0.017186  0.016013\n",
       "NV      0.023181  0.016413\n",
       "NY      0.015188  0.024019\n",
       "OH      0.019185  0.025220\n",
       "OK      0.021183  0.016013\n",
       "OR      0.019185  0.021617\n",
       "PA      0.018785  0.020817\n",
       "RI      0.024380  0.023619\n",
       "SC      0.021583  0.023619\n",
       "SD      0.021583  0.019215\n",
       "TN      0.021982  0.016813\n",
       "TX      0.019185  0.020016\n",
       "UT      0.018385  0.019616\n",
       "VA      0.021183  0.018415\n",
       "VT      0.022382  0.016413\n",
       "WA      0.021982  0.018415\n",
       "WI      0.018785  0.015212\n",
       "WV      0.019584  0.022018\n",
       "WY      0.020783  0.020416"
      ]
     },
     "metadata": {},
     "output_type": "display_data"
    },
    {
     "data": {
      "text/html": [
       "<div>\n",
       "<style scoped>\n",
       "    .dataframe tbody tr th:only-of-type {\n",
       "        vertical-align: middle;\n",
       "    }\n",
       "\n",
       "    .dataframe tbody tr th {\n",
       "        vertical-align: top;\n",
       "    }\n",
       "\n",
       "    .dataframe thead th {\n",
       "        text-align: right;\n",
       "    }\n",
       "</style>\n",
       "<table border=\"1\" class=\"dataframe\">\n",
       "  <thead>\n",
       "    <tr style=\"text-align: right;\">\n",
       "      <th>Churn?</th>\n",
       "      <th>False.</th>\n",
       "      <th>True.</th>\n",
       "    </tr>\n",
       "    <tr>\n",
       "      <th>Area Code</th>\n",
       "      <th></th>\n",
       "      <th></th>\n",
       "    </tr>\n",
       "  </thead>\n",
       "  <tbody>\n",
       "    <tr>\n",
       "      <th>657</th>\n",
       "      <td>0.037170</td>\n",
       "      <td>0.036829</td>\n",
       "    </tr>\n",
       "    <tr>\n",
       "      <th>658</th>\n",
       "      <td>0.022782</td>\n",
       "      <td>0.021217</td>\n",
       "    </tr>\n",
       "    <tr>\n",
       "      <th>659</th>\n",
       "      <td>0.015588</td>\n",
       "      <td>0.020416</td>\n",
       "    </tr>\n",
       "    <tr>\n",
       "      <th>676</th>\n",
       "      <td>0.020384</td>\n",
       "      <td>0.021217</td>\n",
       "    </tr>\n",
       "    <tr>\n",
       "      <th>677</th>\n",
       "      <td>0.018785</td>\n",
       "      <td>0.017614</td>\n",
       "    </tr>\n",
       "    <tr>\n",
       "      <th>678</th>\n",
       "      <td>0.015588</td>\n",
       "      <td>0.020016</td>\n",
       "    </tr>\n",
       "    <tr>\n",
       "      <th>686</th>\n",
       "      <td>0.040767</td>\n",
       "      <td>0.040432</td>\n",
       "    </tr>\n",
       "    <tr>\n",
       "      <th>707</th>\n",
       "      <td>0.019984</td>\n",
       "      <td>0.015612</td>\n",
       "    </tr>\n",
       "    <tr>\n",
       "      <th>716</th>\n",
       "      <td>0.017986</td>\n",
       "      <td>0.015212</td>\n",
       "    </tr>\n",
       "    <tr>\n",
       "      <th>727</th>\n",
       "      <td>0.019185</td>\n",
       "      <td>0.018815</td>\n",
       "    </tr>\n",
       "    <tr>\n",
       "      <th>736</th>\n",
       "      <td>0.039968</td>\n",
       "      <td>0.045637</td>\n",
       "    </tr>\n",
       "    <tr>\n",
       "      <th>737</th>\n",
       "      <td>0.043565</td>\n",
       "      <td>0.034027</td>\n",
       "    </tr>\n",
       "    <tr>\n",
       "      <th>758</th>\n",
       "      <td>0.031974</td>\n",
       "      <td>0.036029</td>\n",
       "    </tr>\n",
       "    <tr>\n",
       "      <th>766</th>\n",
       "      <td>0.020783</td>\n",
       "      <td>0.019616</td>\n",
       "    </tr>\n",
       "    <tr>\n",
       "      <th>776</th>\n",
       "      <td>0.054357</td>\n",
       "      <td>0.062050</td>\n",
       "    </tr>\n",
       "    <tr>\n",
       "      <th>777</th>\n",
       "      <td>0.062350</td>\n",
       "      <td>0.064452</td>\n",
       "    </tr>\n",
       "    <tr>\n",
       "      <th>778</th>\n",
       "      <td>0.037170</td>\n",
       "      <td>0.041233</td>\n",
       "    </tr>\n",
       "    <tr>\n",
       "      <th>786</th>\n",
       "      <td>0.053557</td>\n",
       "      <td>0.060048</td>\n",
       "    </tr>\n",
       "    <tr>\n",
       "      <th>787</th>\n",
       "      <td>0.059552</td>\n",
       "      <td>0.051641</td>\n",
       "    </tr>\n",
       "    <tr>\n",
       "      <th>788</th>\n",
       "      <td>0.038369</td>\n",
       "      <td>0.040432</td>\n",
       "    </tr>\n",
       "    <tr>\n",
       "      <th>797</th>\n",
       "      <td>0.040368</td>\n",
       "      <td>0.041233</td>\n",
       "    </tr>\n",
       "    <tr>\n",
       "      <th>798</th>\n",
       "      <td>0.019185</td>\n",
       "      <td>0.021617</td>\n",
       "    </tr>\n",
       "    <tr>\n",
       "      <th>806</th>\n",
       "      <td>0.018785</td>\n",
       "      <td>0.020817</td>\n",
       "    </tr>\n",
       "    <tr>\n",
       "      <th>827</th>\n",
       "      <td>0.024380</td>\n",
       "      <td>0.023619</td>\n",
       "    </tr>\n",
       "    <tr>\n",
       "      <th>836</th>\n",
       "      <td>0.043165</td>\n",
       "      <td>0.042834</td>\n",
       "    </tr>\n",
       "    <tr>\n",
       "      <th>847</th>\n",
       "      <td>0.021982</td>\n",
       "      <td>0.016813</td>\n",
       "    </tr>\n",
       "    <tr>\n",
       "      <th>848</th>\n",
       "      <td>0.019185</td>\n",
       "      <td>0.020016</td>\n",
       "    </tr>\n",
       "    <tr>\n",
       "      <th>858</th>\n",
       "      <td>0.018385</td>\n",
       "      <td>0.019616</td>\n",
       "    </tr>\n",
       "    <tr>\n",
       "      <th>866</th>\n",
       "      <td>0.021183</td>\n",
       "      <td>0.018415</td>\n",
       "    </tr>\n",
       "    <tr>\n",
       "      <th>868</th>\n",
       "      <td>0.022382</td>\n",
       "      <td>0.016413</td>\n",
       "    </tr>\n",
       "    <tr>\n",
       "      <th>876</th>\n",
       "      <td>0.021982</td>\n",
       "      <td>0.018415</td>\n",
       "    </tr>\n",
       "    <tr>\n",
       "      <th>877</th>\n",
       "      <td>0.018785</td>\n",
       "      <td>0.015212</td>\n",
       "    </tr>\n",
       "    <tr>\n",
       "      <th>878</th>\n",
       "      <td>0.040368</td>\n",
       "      <td>0.042434</td>\n",
       "    </tr>\n",
       "  </tbody>\n",
       "</table>\n",
       "</div>"
      ],
      "text/plain": [
       "Churn?       False.     True.\n",
       "Area Code                    \n",
       "657        0.037170  0.036829\n",
       "658        0.022782  0.021217\n",
       "659        0.015588  0.020416\n",
       "676        0.020384  0.021217\n",
       "677        0.018785  0.017614\n",
       "678        0.015588  0.020016\n",
       "686        0.040767  0.040432\n",
       "707        0.019984  0.015612\n",
       "716        0.017986  0.015212\n",
       "727        0.019185  0.018815\n",
       "736        0.039968  0.045637\n",
       "737        0.043565  0.034027\n",
       "758        0.031974  0.036029\n",
       "766        0.020783  0.019616\n",
       "776        0.054357  0.062050\n",
       "777        0.062350  0.064452\n",
       "778        0.037170  0.041233\n",
       "786        0.053557  0.060048\n",
       "787        0.059552  0.051641\n",
       "788        0.038369  0.040432\n",
       "797        0.040368  0.041233\n",
       "798        0.019185  0.021617\n",
       "806        0.018785  0.020817\n",
       "827        0.024380  0.023619\n",
       "836        0.043165  0.042834\n",
       "847        0.021982  0.016813\n",
       "848        0.019185  0.020016\n",
       "858        0.018385  0.019616\n",
       "866        0.021183  0.018415\n",
       "868        0.022382  0.016413\n",
       "876        0.021982  0.018415\n",
       "877        0.018785  0.015212\n",
       "878        0.040368  0.042434"
      ]
     },
     "metadata": {},
     "output_type": "display_data"
    },
    {
     "data": {
      "text/html": [
       "<div>\n",
       "<style scoped>\n",
       "    .dataframe tbody tr th:only-of-type {\n",
       "        vertical-align: middle;\n",
       "    }\n",
       "\n",
       "    .dataframe tbody tr th {\n",
       "        vertical-align: top;\n",
       "    }\n",
       "\n",
       "    .dataframe thead th {\n",
       "        text-align: right;\n",
       "    }\n",
       "</style>\n",
       "<table border=\"1\" class=\"dataframe\">\n",
       "  <thead>\n",
       "    <tr style=\"text-align: right;\">\n",
       "      <th>Churn?</th>\n",
       "      <th>False.</th>\n",
       "      <th>True.</th>\n",
       "    </tr>\n",
       "    <tr>\n",
       "      <th>Int'l Plan</th>\n",
       "      <th></th>\n",
       "      <th></th>\n",
       "    </tr>\n",
       "  </thead>\n",
       "  <tbody>\n",
       "    <tr>\n",
       "      <th>no</th>\n",
       "      <td>0.5</td>\n",
       "      <td>0.502802</td>\n",
       "    </tr>\n",
       "    <tr>\n",
       "      <th>yes</th>\n",
       "      <td>0.5</td>\n",
       "      <td>0.497198</td>\n",
       "    </tr>\n",
       "  </tbody>\n",
       "</table>\n",
       "</div>"
      ],
      "text/plain": [
       "Churn?      False.     True.\n",
       "Int'l Plan                  \n",
       "no             0.5  0.502802\n",
       "yes            0.5  0.497198"
      ]
     },
     "metadata": {},
     "output_type": "display_data"
    },
    {
     "data": {
      "text/html": [
       "<div>\n",
       "<style scoped>\n",
       "    .dataframe tbody tr th:only-of-type {\n",
       "        vertical-align: middle;\n",
       "    }\n",
       "\n",
       "    .dataframe tbody tr th {\n",
       "        vertical-align: top;\n",
       "    }\n",
       "\n",
       "    .dataframe thead th {\n",
       "        text-align: right;\n",
       "    }\n",
       "</style>\n",
       "<table border=\"1\" class=\"dataframe\">\n",
       "  <thead>\n",
       "    <tr style=\"text-align: right;\">\n",
       "      <th>Churn?</th>\n",
       "      <th>False.</th>\n",
       "      <th>True.</th>\n",
       "    </tr>\n",
       "    <tr>\n",
       "      <th>VMail Plan</th>\n",
       "      <th></th>\n",
       "      <th></th>\n",
       "    </tr>\n",
       "  </thead>\n",
       "  <tbody>\n",
       "    <tr>\n",
       "      <th>no</th>\n",
       "      <td>0.496403</td>\n",
       "      <td>0.498799</td>\n",
       "    </tr>\n",
       "    <tr>\n",
       "      <th>yes</th>\n",
       "      <td>0.503597</td>\n",
       "      <td>0.501201</td>\n",
       "    </tr>\n",
       "  </tbody>\n",
       "</table>\n",
       "</div>"
      ],
      "text/plain": [
       "Churn?        False.     True.\n",
       "VMail Plan                    \n",
       "no          0.496403  0.498799\n",
       "yes         0.503597  0.501201"
      ]
     },
     "metadata": {},
     "output_type": "display_data"
    },
    {
     "name": "stdout",
     "output_type": "stream",
     "text": [
      "Account Length\n"
     ]
    },
    {
     "data": {
      "image/png": "[encoded data removed]",
      "text/plain": [
       "<Figure size 432x288 with 2 Axes>"
      ]
     },
     "metadata": {
      "needs_background": "light"
     },
     "output_type": "display_data"
    },
    {
     "name": "stdout",
     "output_type": "stream",
     "text": [
      "VMail Message\n"
     ]
    },
    {
     "data": {
      "image/png": "[encoded data removed]",
      "text/plain": [
       "<Figure size 432x288 with 2 Axes>"
      ]
     },
     "metadata": {
      "needs_background": "light"
     },
     "output_type": "display_data"
    },
    {
     "name": "stdout",
     "output_type": "stream",
     "text": [
      "Day Mins\n"
     ]
    },
    {
     "data": {
      "image/png": "[encoded data removed]",
      "text/plain": [
       "<Figure size 432x288 with 2 Axes>"
      ]
     },
     "metadata": {
      "needs_background": "light"
     },
     "output_type": "display_data"
    },
    {
     "name": "stdout",
     "output_type": "stream",
     "text": [
      "Day Calls\n"
     ]
    },
    {
     "data": {
      "image/png": "[encoded data removed]",
      "text/plain": [
       "<Figure size 432x288 with 2 Axes>"
      ]
     },
     "metadata": {
      "needs_background": "light"
     },
     "output_type": "display_data"
    },
    {
     "name": "stdout",
     "output_type": "stream",
     "text": [
      "Day Charge\n"
     ]
    },
    {
     "data": {
      "image/png": "[encoded data removed]",
      "text/plain": [
       "<Figure size 432x288 with 2 Axes>"
      ]
     },
     "metadata": {
      "needs_background": "light"
     },
     "output_type": "display_data"
    },
    {
     "name": "stdout",
     "output_type": "stream",
     "text": [
      "Eve Mins\n"
     ]
    },
    {
     "data": {
      "image/png": "[encoded data removed]",
      "text/plain": [
       "<Figure size 432x288 with 2 Axes>"
      ]
     },
     "metadata": {
      "needs_background": "light"
     },
     "output_type": "display_data"
    },
    {
     "name": "stdout",
     "output_type": "stream",
     "text": [
      "Eve Calls\n"
     ]
    },
    {
     "data": {
      "image/png": "[encoded data removed]",
      "text/plain": [
       "<Figure size 432x288 with 2 Axes>"
      ]
     },
     "metadata": {
      "needs_background": "light"
     },
     "output_type": "display_data"
    },
    {
     "name": "stdout",
     "output_type": "stream",
     "text": [
      "Eve Charge\n"
     ]
    },
    {
     "data": {
      "image/png": "[encoded data removed]",
      "text/plain": [
       "<Figure size 432x288 with 2 Axes>"
      ]
     },
     "metadata": {
      "needs_background": "light"
     },
     "output_type": "display_data"
    },
    {
     "name": "stdout",
     "output_type": "stream",
     "text": [
      "Night Mins\n"
     ]
    },
    {
     "data": {
      "image/png": "[encoded data removed]",
      "text/plain": [
       "<Figure size 432x288 with 2 Axes>"
      ]
     },
     "metadata": {
      "needs_background": "light"
     },
     "output_type": "display_data"
    },
    {
     "name": "stdout",
     "output_type": "stream",
     "text": [
      "Night Calls\n"
     ]
    },
    {
     "data": {
      "image/png": "[encoded data removed]",
      "text/plain": [
       "<Figure size 432x288 with 2 Axes>"
      ]
     },
     "metadata": {
      "needs_background": "light"
     },
     "output_type": "display_data"
    },
    {
     "name": "stdout",
     "output_type": "stream",
     "text": [
      "Night Charge\n"
     ]
    },
    {
     "data": {
      "image/png": "[encoded data removed]",
      "text/plain": [
       "<Figure size 432x288 with 2 Axes>"
      ]
     },
     "metadata": {
      "needs_background": "light"
     },
     "output_type": "display_data"
    },
    {
     "name": "stdout",
     "output_type": "stream",
     "text": [
      "Intl Mins\n"
     ]
    },
    {
     "data": {
      "image/png": "[encoded data removed]",
      "text/plain": [
       "<Figure size 432x288 with 2 Axes>"
      ]
     },
     "metadata": {
      "needs_background": "light"
     },
     "output_type": "display_data"
    },
    {
     "name": "stdout",
     "output_type": "stream",
     "text": [
      "Intl Calls\n"
     ]
    },
    {
     "data": {
      "image/png": "[encoded data removed]",
      "text/plain": [
       "<Figure size 432x288 with 2 Axes>"
      ]
     },
     "metadata": {
      "needs_background": "light"
     },
     "output_type": "display_data"
    },
    {
     "name": "stdout",
     "output_type": "stream",
     "text": [
      "Intl Charge\n"
     ]
    },
    {
     "data": {
      "image/png": "[encoded data removed]",
      "text/plain": [
       "<Figure size 432x288 with 2 Axes>"
      ]
     },
     "metadata": {
      "needs_background": "light"
     },
     "output_type": "display_data"
    },
    {
     "name": "stdout",
     "output_type": "stream",
     "text": [
      "CustServ Calls\n"
     ]
    },
    {
     "data": {
      "image/png": "[encoded data removed]",
      "text/plain": [
       "<Figure size 432x288 with 2 Axes>"
      ]
     },
     "metadata": {
      "needs_background": "light"
     },
     "output_type": "display_data"
    }
   ],
   "source": [
    "for column in churn.select_dtypes(include=[\"object\"]).columns:\n",
    "    if column != \"Churn?\":\n",
    "        display(pd.crosstab(index=churn[column], columns=churn[\"Churn?\"], normalize=\"columns\"))\n",
    "\n",
    "for column in churn.select_dtypes(exclude=[\"object\"]).columns:\n",
    "    print(column)\n",
    "    hist = churn[[column, \"Churn?\"]].hist(by=\"Churn?\", bins=30)\n",
    "    plt.show()"
   ]
  },
  {
   "cell_type": "markdown",
   "id": "fitted-student",
   "metadata": {
    "papermill": {
     "duration": null,
     "end_time": null,
     "exception": null,
     "start_time": null,
     "status": "pending"
    },
    "tags": []
   },
   "source": [
    "We see several features that essentially have 100% correlation with one another.  Including these feature pairs in some machine learning algorithms can create catastrophic problems, while in others it will only introduce minor redundancy and bias.  Let's remove one feature from each of the highly correlated pairs: Day Charge from the pair with Day Mins, Night Charge from the pair with Night Mins, Intl Charge from the pair with Intl Mins:"
   ]
  },
  {
   "cell_type": "code",
   "execution_count": 9,
   "id": "diagnostic-sheet",
   "metadata": {
    "papermill": {
     "duration": null,
     "end_time": null,
     "exception": null,
     "start_time": null,
     "status": "pending"
    },
    "tags": []
   },
   "outputs": [],
   "source": [
    "churn = churn.drop([\"Day Charge\", \"Eve Charge\", \"Night Charge\", \"Intl Charge\"], axis=1)"
   ]
  },
  {
   "cell_type": "markdown",
   "id": "tracked-theory",
   "metadata": {
    "papermill": {
     "duration": null,
     "end_time": null,
     "exception": null,
     "start_time": null,
     "status": "pending"
    },
    "tags": []
   },
   "source": [
    "Now that we've cleaned up our dataset, let's determine which algorithm to use.  As mentioned above, there appear to be some variables where both high and low (but not intermediate) values are predictive of churn.  In order to accommodate this in an algorithm like linear regression, we'd need to generate polynomial (or bucketed) terms.  Instead, let's attempt to model this problem using gradient boosted trees.  Amazon SageMaker provides an XGBoost container that we can use to train in a managed, distributed setting, and then host as a real-time prediction endpoint.  XGBoost uses gradient boosted trees which naturally account for non-linear relationships between features and the target variable, as well as accommodating complex interactions between features.\n",
    "\n",
    "Amazon SageMaker XGBoost can train on data in either a CSV or LibSVM format.  For this example, we'll stick with CSV.  It should:\n",
    "- Have the predictor variable in the first column\n",
    "- Not have a header row\n",
    "\n",
    "But first, let's convert our categorical features into numeric features."
   ]
  },
  {
   "cell_type": "code",
   "execution_count": 10,
   "id": "expanded-briefs",
   "metadata": {
    "papermill": {
     "duration": null,
     "end_time": null,
     "exception": null,
     "start_time": null,
     "status": "pending"
    },
    "tags": []
   },
   "outputs": [],
   "source": [
    "model_data = pd.get_dummies(churn)\n",
    "model_data = pd.concat(\n",
    "    [model_data[\"Churn?_True.\"], model_data.drop([\"Churn?_False.\", \"Churn?_True.\"], axis=1)], axis=1\n",
    ")"
   ]
  },
  {
   "cell_type": "markdown",
   "id": "bright-ministry",
   "metadata": {
    "papermill": {
     "duration": null,
     "end_time": null,
     "exception": null,
     "start_time": null,
     "status": "pending"
    },
    "tags": []
   },
   "source": [
    "And now let's split the data into training, validation, and test sets.  This will help prevent us from overfitting the model, and allow us to test the models accuracy on data it hasn't already seen."
   ]
  },
  {
   "cell_type": "code",
   "execution_count": 11,
   "id": "upset-techno",
   "metadata": {
    "papermill": {
     "duration": null,
     "end_time": null,
     "exception": null,
     "start_time": null,
     "status": "pending"
    },
    "tags": []
   },
   "outputs": [],
   "source": [
    "train_data, validation_data, test_data = np.split(\n",
    "    model_data.sample(frac=1, random_state=1729),\n",
    "    [int(0.7 * len(model_data)), int(0.9 * len(model_data))],\n",
    ")\n",
    "train_data.to_csv(\"train.csv\", header=False, index=False)\n",
    "validation_data.to_csv(\"validation.csv\", header=False, index=False)"
   ]
  },
  {
   "cell_type": "markdown",
   "id": "opened-amino",
   "metadata": {
    "papermill": {
     "duration": null,
     "end_time": null,
     "exception": null,
     "start_time": null,
     "status": "pending"
    },
    "tags": []
   },
   "source": [
    "Now we'll upload these files to S3."
   ]
  },
  {
   "cell_type": "code",
   "execution_count": 12,
   "id": "comparative-guide",
   "metadata": {
    "papermill": {
     "duration": null,
     "end_time": null,
     "exception": null,
     "start_time": null,
     "status": "pending"
    },
    "tags": []
   },
   "outputs": [],
   "source": [
    "boto3.Session().resource(\"s3\").Bucket(bucket).Object(\n",
    "    os.path.join(prefix, \"train/train.csv\")\n",
    ").upload_file(\"train.csv\")\n",
    "boto3.Session().resource(\"s3\").Bucket(bucket).Object(\n",
    "    os.path.join(prefix, \"validation/validation.csv\")\n",
    ").upload_file(\"validation.csv\")"
   ]
  },
  {
   "cell_type": "markdown",
   "id": "pleased-dressing",
   "metadata": {
    "papermill": {
     "duration": null,
     "end_time": null,
     "exception": null,
     "start_time": null,
     "status": "pending"
    },
    "tags": []
   },
   "source": [
    "---\n",
    "## Train\n",
    "\n",
    "Moving onto training, first we'll need to specify the locations of the XGBoost algorithm containers."
   ]
  },
  {
   "cell_type": "code",
   "execution_count": 13,
   "id": "known-utility",
   "metadata": {
    "papermill": {
     "duration": null,
     "end_time": null,
     "exception": null,
     "start_time": null,
     "status": "pending"
    },
    "tags": []
   },
   "outputs": [],
   "source": [
    "from sagemaker import image_uris\n",
    "\n",
    "container = image_uris.retrieve(\n",
    "    framework=\"xgboost\", region=boto3.Session().region_name, version=\"1.0-1\"\n",
    ")"
   ]
  },
  {
   "cell_type": "markdown",
   "id": "dominican-condition",
   "metadata": {
    "papermill": {
     "duration": null,
     "end_time": null,
     "exception": null,
     "start_time": null,
     "status": "pending"
    },
    "tags": []
   },
   "source": [
    "Then, because we're training with the CSV file format, we'll create `s3_input`s that our training function can use as a pointer to the files in S3."
   ]
  },
  {
   "cell_type": "code",
   "execution_count": 14,
   "id": "atomic-election",
   "metadata": {
    "papermill": {
     "duration": null,
     "end_time": null,
     "exception": null,
     "start_time": null,
     "status": "pending"
    },
    "tags": []
   },
   "outputs": [],
   "source": [
    "s3_input_train = sagemaker.inputs.TrainingInput(\n",
    "    s3_data=\"s3://{}/{}/train\".format(bucket, prefix), content_type=\"csv\"\n",
    ")\n",
    "s3_input_validation = sagemaker.inputs.TrainingInput(\n",
    "    s3_data=\"s3://{}/{}/validation/\".format(bucket, prefix), content_type=\"csv\"\n",
    ")"
   ]
  },
  {
   "cell_type": "markdown",
   "id": "threaded-arbitration",
   "metadata": {
    "papermill": {
     "duration": null,
     "end_time": null,
     "exception": null,
     "start_time": null,
     "status": "pending"
    },
    "tags": []
   },
   "source": [
    "Now, we can specify a few parameters like what type of training instances we'd like to use and how many, as well as our XGBoost hyperparameters.  A few key hyperparameters are:\n",
    "- `max_depth` controls how deep each tree within the algorithm can be built.  Deeper trees can lead to better fit, but are more computationally expensive and can lead to overfitting.  There is typically some trade-off in model performance that needs to be explored between a large number of shallow trees and a smaller number of deeper trees.\n",
    "- `subsample` controls sampling of the training data.  This technique can help reduce overfitting, but setting it too low can also starve the model of data.\n",
    "- `num_round` controls the number of boosting rounds.  This is essentially the subsequent models that are trained using the residuals of previous iterations.  Again, more rounds should produce a better fit on the training data, but can be computationally expensive or lead to overfitting.\n",
    "- `eta` controls how aggressive each round of boosting is.  Larger values lead to more conservative boosting.\n",
    "- `gamma` controls how aggressively trees are grown.  Larger values lead to more conservative models.\n",
    "\n",
    "More detail on XGBoost's hyperparmeters can be found on their GitHub [page](https://github.com/dmlc/xgboost/blob/master/doc/parameter.md)."
   ]
  },
  {
   "cell_type": "code",
   "execution_count": 15,
   "id": "fabulous-container",
   "metadata": {
    "papermill": {
     "duration": null,
     "end_time": null,
     "exception": null,
     "start_time": null,
     "status": "pending"
    },
    "tags": []
   },
   "outputs": [
    {
     "name": "stdout",
     "output_type": "stream",
     "text": [
      "2021-06-14 18:08:10 Starting - Starting the training job...\n",
      "2021-06-14 18:08:13 Starting - Launching requested ML instancesProfilerReport-1623694090: InProgress\n",
      "......\n",
      "2021-06-14 18:09:39 Starting - Preparing the instances for training.........\n",
      "2021-06-14 18:11:06 Downloading - Downloading input data\n",
      "2021-06-14 18:11:06 Training - Downloading the training image.....\u001b[34mINFO:sagemaker-containers:Imported framework sagemaker_xgboost_container.training\u001b[0m\n",
      "\u001b[34mINFO:sagemaker-containers:Failed to parse hyperparameter objective value binary:logistic to Json.\u001b[0m\n",
      "\u001b[34mReturning the value itself\u001b[0m\n",
      "\u001b[34mINFO:sagemaker-containers:No GPUs detected (normal if no gpus installed)\u001b[0m\n",
      "\u001b[34mINFO:sagemaker_xgboost_container.training:Running XGBoost Sagemaker in algorithm mode\u001b[0m\n",
      "\u001b[34mINFO:root:Determined delimiter of CSV input is ','\u001b[0m\n",
      "\u001b[34mINFO:root:Determined delimiter of CSV input is ','\u001b[0m\n",
      "\u001b[34mINFO:root:Determined delimiter of CSV input is ','\u001b[0m\n",
      "\u001b[34m[18:11:49] 3500x99 matrix with 346500 entries loaded from /opt/ml/input/data/train?format=csv&label_column=0&delimiter=,\u001b[0m\n",
      "\u001b[34mINFO:root:Determined delimiter of CSV input is ','\u001b[0m\n",
      "\u001b[34m[18:11:49] 1000x99 matrix with 99000 entries loaded from /opt/ml/input/data/validation?format=csv&label_column=0&delimiter=,\u001b[0m\n",
      "\u001b[34mINFO:root:Single node training.\u001b[0m\n",
      "\u001b[34mINFO:root:Train matrix has 3500 rows\u001b[0m\n",
      "\u001b[34mINFO:root:Validation matrix has 1000 rows\u001b[0m\n",
      "\u001b[34m[18:11:49] WARNING: /workspace/src/learner.cc:328: \u001b[0m\n",
      "\u001b[34mParameters: { num_round, silent } might not be used.\n",
      "\n",
      "  This may not be accurate due to some parameters are only used in language bindings but\n",
      "  passed down to XGBoost core.  Or some parameters are not used but slip through this\n",
      "  verification. Please open an issue if you find above cases.\n",
      "\n",
      "\u001b[0m\n",
      "\u001b[34m[0]#011train-error:0.11743#011validation-error:0.12700\u001b[0m\n",
      "\u001b[34m[1]#011train-error:0.10429#011validation-error:0.10800\u001b[0m\n",
      "\u001b[34m[2]#011train-error:0.09714#011validation-error:0.10700\u001b[0m\n",
      "\u001b[34m[3]#011train-error:0.08600#011validation-error:0.10300\u001b[0m\n",
      "\u001b[34m[4]#011train-error:0.08457#011validation-error:0.09700\u001b[0m\n",
      "\u001b[34m[5]#011train-error:0.08143#011validation-error:0.09200\u001b[0m\n",
      "\u001b[34m[6]#011train-error:0.07714#011validation-error:0.08700\u001b[0m\n",
      "\u001b[34m[7]#011train-error:0.07343#011validation-error:0.08300\u001b[0m\n",
      "\u001b[34m[8]#011train-error:0.07029#011validation-error:0.07700\u001b[0m\n",
      "\u001b[34m[9]#011train-error:0.06914#011validation-error:0.07800\u001b[0m\n",
      "\u001b[34m[10]#011train-error:0.06657#011validation-error:0.07900\u001b[0m\n",
      "\u001b[34m[11]#011train-error:0.06543#011validation-error:0.07300\u001b[0m\n",
      "\u001b[34m[12]#011train-error:0.06343#011validation-error:0.07500\u001b[0m\n",
      "\u001b[34m[13]#011train-error:0.06286#011validation-error:0.07000\u001b[0m\n",
      "\u001b[34m[14]#011train-error:0.06286#011validation-error:0.07200\u001b[0m\n",
      "\u001b[34m[15]#011train-error:0.06400#011validation-error:0.07100\u001b[0m\n",
      "\u001b[34m[16]#011train-error:0.06286#011validation-error:0.07200\u001b[0m\n",
      "\u001b[34m[17]#011train-error:0.06200#011validation-error:0.06900\u001b[0m\n",
      "\u001b[34m[18]#011train-error:0.06000#011validation-error:0.06900\u001b[0m\n",
      "\u001b[34m[19]#011train-error:0.06000#011validation-error:0.06700\u001b[0m\n",
      "\u001b[34m[20]#011train-error:0.05971#011validation-error:0.06300\u001b[0m\n",
      "\u001b[34m[21]#011train-error:0.05914#011validation-error:0.06600\u001b[0m\n",
      "\u001b[34m[22]#011train-error:0.05914#011validation-error:0.06700\u001b[0m\n",
      "\u001b[34m[23]#011train-error:0.05857#011validation-error:0.07000\u001b[0m\n",
      "\u001b[34m[24]#011train-error:0.05800#011validation-error:0.06900\u001b[0m\n",
      "\u001b[34m[25]#011train-error:0.05800#011validation-error:0.06900\u001b[0m\n",
      "\u001b[34m[26]#011train-error:0.05629#011validation-error:0.06600\u001b[0m\n",
      "\u001b[34m[27]#011train-error:0.05571#011validation-error:0.06500\u001b[0m\n",
      "\u001b[34m[28]#011train-error:0.05514#011validation-error:0.06700\u001b[0m\n",
      "\u001b[34m[29]#011train-error:0.05486#011validation-error:0.06700\u001b[0m\n",
      "\u001b[34m[30]#011train-error:0.05571#011validation-error:0.06700\u001b[0m\n",
      "\u001b[34m[31]#011train-error:0.05371#011validation-error:0.06700\u001b[0m\n",
      "\u001b[34m[32]#011train-error:0.05143#011validation-error:0.06500\u001b[0m\n",
      "\u001b[34m[33]#011train-error:0.05200#011validation-error:0.06400\u001b[0m\n",
      "\u001b[34m[34]#011train-error:0.05229#011validation-error:0.06200\u001b[0m\n",
      "\u001b[34m[35]#011train-error:0.05114#011validation-error:0.06100\u001b[0m\n",
      "\u001b[34m[36]#011train-error:0.05114#011validation-error:0.06100\u001b[0m\n",
      "\u001b[34m[37]#011train-error:0.05000#011validation-error:0.05800\u001b[0m\n",
      "\u001b[34m[38]#011train-error:0.05000#011validation-error:0.06000\u001b[0m\n",
      "\u001b[34m[39]#011train-error:0.04886#011validation-error:0.05900\u001b[0m\n",
      "\u001b[34m[40]#011train-error:0.04771#011validation-error:0.05800\u001b[0m\n",
      "\u001b[34m[41]#011train-error:0.04657#011validation-error:0.06000\u001b[0m\n",
      "\u001b[34m[42]#011train-error:0.04629#011validation-error:0.06000\u001b[0m\n",
      "\u001b[34m[43]#011train-error:0.04600#011validation-error:0.06100\u001b[0m\n",
      "\u001b[34m[44]#011train-error:0.04429#011validation-error:0.06200\u001b[0m\n",
      "\u001b[34m[45]#011train-error:0.04400#011validation-error:0.06100\u001b[0m\n",
      "\u001b[34m[46]#011train-error:0.04400#011validation-error:0.06100\u001b[0m\n",
      "\u001b[34m[47]#011train-error:0.04200#011validation-error:0.06100\u001b[0m\n",
      "\u001b[34m[48]#011train-error:0.04229#011validation-error:0.06000\u001b[0m\n",
      "\u001b[34m[49]#011train-error:0.04229#011validation-error:0.06100\u001b[0m\n",
      "\u001b[34m[50]#011train-error:0.04114#011validation-error:0.06300\u001b[0m\n",
      "\u001b[34m[51]#011train-error:0.04086#011validation-error:0.06300\u001b[0m\n",
      "\u001b[34m[52]#011train-error:0.04086#011validation-error:0.06300\u001b[0m\n",
      "\u001b[34m[53]#011train-error:0.04200#011validation-error:0.06200\u001b[0m\n",
      "\u001b[34m[54]#011train-error:0.04229#011validation-error:0.06200\u001b[0m\n",
      "\u001b[34m[55]#011train-error:0.04086#011validation-error:0.06400\u001b[0m\n",
      "\u001b[34m[56]#011train-error:0.04086#011validation-error:0.06400\u001b[0m\n",
      "\u001b[34m[57]#011train-error:0.04086#011validation-error:0.06400\u001b[0m\n",
      "\u001b[34m[58]#011train-error:0.04057#011validation-error:0.06600\u001b[0m\n",
      "\u001b[34m[59]#011train-error:0.04086#011validation-error:0.06600\u001b[0m\n",
      "\u001b[34m[60]#011train-error:0.04086#011validation-error:0.06600\u001b[0m\n",
      "\u001b[34m[61]#011train-error:0.04086#011validation-error:0.06600\u001b[0m\n",
      "\u001b[34m[62]#011train-error:0.04057#011validation-error:0.06700\u001b[0m\n",
      "\u001b[34m[63]#011train-error:0.04057#011validation-error:0.06900\u001b[0m\n",
      "\u001b[34m[64]#011train-error:0.03914#011validation-error:0.06900\u001b[0m\n",
      "\u001b[34m[65]#011train-error:0.03886#011validation-error:0.06900\u001b[0m\n",
      "\u001b[34m[66]#011train-error:0.03857#011validation-error:0.06800\u001b[0m\n",
      "\u001b[34m[67]#011train-error:0.03857#011validation-error:0.06600\u001b[0m\n",
      "\u001b[34m[68]#011train-error:0.03857#011validation-error:0.06500\u001b[0m\n",
      "\u001b[34m[69]#011train-error:0.03600#011validation-error:0.06500\u001b[0m\n",
      "\u001b[34m[70]#011train-error:0.03629#011validation-error:0.06300\u001b[0m\n",
      "\u001b[34m[71]#011train-error:0.03629#011validation-error:0.06300\u001b[0m\n",
      "\u001b[34m[72]#011train-error:0.03600#011validation-error:0.06300\u001b[0m\n",
      "\u001b[34m[73]#011train-error:0.03571#011validation-error:0.06300\u001b[0m\n",
      "\u001b[34m[74]#011train-error:0.03571#011validation-error:0.06200\u001b[0m\n",
      "\u001b[34m[75]#011train-error:0.03571#011validation-error:0.06200\u001b[0m\n",
      "\u001b[34m[76]#011train-error:0.03543#011validation-error:0.06200\u001b[0m\n",
      "\u001b[34m[77]#011train-error:0.03686#011validation-error:0.06300\u001b[0m\n",
      "\u001b[34m[78]#011train-error:0.03686#011validation-error:0.06400\u001b[0m\n",
      "\u001b[34m[79]#011train-error:0.03686#011validation-error:0.06300\u001b[0m\n",
      "\u001b[34m[80]#011train-error:0.03714#011validation-error:0.06400\u001b[0m\n",
      "\u001b[34m[81]#011train-error:0.03657#011validation-error:0.06500\u001b[0m\n",
      "\u001b[34m[82]#011train-error:0.03657#011validation-error:0.06500\u001b[0m\n",
      "\u001b[34m[83]#011train-error:0.03629#011validation-error:0.06400\u001b[0m\n",
      "\u001b[34m[84]#011train-error:0.03629#011validation-error:0.06400\u001b[0m\n",
      "\u001b[34m[85]#011train-error:0.03543#011validation-error:0.06300\u001b[0m\n",
      "\u001b[34m[86]#011train-error:0.03543#011validation-error:0.06300\u001b[0m\n",
      "\u001b[34m[87]#011train-error:0.03400#011validation-error:0.06300\u001b[0m\n",
      "\u001b[34m[88]#011train-error:0.03457#011validation-error:0.06200\u001b[0m\n",
      "\u001b[34m[89]#011train-error:0.03429#011validation-error:0.06100\u001b[0m\n",
      "\u001b[34m[90]#011train-error:0.03429#011validation-error:0.06200\u001b[0m\n",
      "\u001b[34m[91]#011train-error:0.03457#011validation-error:0.06200\u001b[0m\n",
      "\u001b[34m[92]#011train-error:0.03429#011validation-error:0.06100\u001b[0m\n",
      "\u001b[34m[93]#011train-error:0.03457#011validation-error:0.06400\u001b[0m\n",
      "\u001b[34m[94]#011train-error:0.03457#011validation-error:0.06300\u001b[0m\n",
      "\u001b[34m[95]#011train-error:0.03457#011validation-error:0.06400\u001b[0m\n",
      "\u001b[34m[96]#011train-error:0.03457#011validation-error:0.06300\u001b[0m\n",
      "\u001b[34m[97]#011train-error:0.03457#011validation-error:0.06400\u001b[0m\n",
      "\u001b[34m[98]#011train-error:0.03486#011validation-error:0.06300\u001b[0m\n",
      "\u001b[34m[99]#011train-error:0.03457#011validation-error:0.06300\u001b[0m\n",
      "\n",
      "2021-06-14 18:12:00 Uploading - Uploading generated training model\n",
      "2021-06-14 18:12:00 Completed - Training job completed\n",
      "Training seconds: 71\n",
      "Billable seconds: 71\n"
     ]
    }
   ],
   "source": [
    "sess = sagemaker.Session()\n",
    "\n",
    "xgb = sagemaker.estimator.Estimator(\n",
    "    container,\n",
    "    role,\n",
    "    instance_count=1,\n",
    "    instance_type=\"ml.m4.xlarge\",\n",
    "    output_path=\"s3://{}/{}/output\".format(bucket, prefix),\n",
    "    sagemaker_session=sess,\n",
    ")\n",
    "xgb.set_hyperparameters(\n",
    "    max_depth=5,\n",
    "    eta=0.2,\n",
    "    gamma=4,\n",
    "    min_child_weight=6,\n",
    "    subsample=0.8,\n",
    "    silent=0,\n",
    "    objective=\"binary:logistic\",\n",
    "    num_round=100,\n",
    ")\n",
    "\n",
    "xgb.fit({\"train\": s3_input_train, \"validation\": s3_input_validation})"
   ]
  },
  {
   "cell_type": "markdown",
   "id": "declared-concord",
   "metadata": {
    "papermill": {
     "duration": null,
     "end_time": null,
     "exception": null,
     "start_time": null,
     "status": "pending"
    },
    "tags": []
   },
   "source": [
    "---\n",
    "## Host\n",
    "\n",
    "Now that we've trained the algorithm, let's create a model and deploy it to a hosted endpoint. We'll also need to setup serializers and deserializers for passing our `test_data` NumPy arrays to the model behind the endpoint."
   ]
  },
  {
   "cell_type": "code",
   "execution_count": 16,
   "id": "amino-ontario",
   "metadata": {
    "papermill": {
     "duration": null,
     "end_time": null,
     "exception": null,
     "start_time": null,
     "status": "pending"
    },
    "tags": []
   },
   "outputs": [
    {
     "name": "stdout",
     "output_type": "stream",
     "text": [
      "-------!"
     ]
    }
   ],
   "source": [
    "xgb_predictor = xgb.deploy(\n",
    "    initial_instance_count=1, instance_type=\"ml.m4.xlarge\", serializer=CSVSerializer()\n",
    ")"
   ]
  },
  {
   "cell_type": "markdown",
   "id": "imported-captain",
   "metadata": {
    "papermill": {
     "duration": null,
     "end_time": null,
     "exception": null,
     "start_time": null,
     "status": "pending"
    },
    "tags": []
   },
   "source": [
    "### Evaluate\n",
    "\n",
    "Now that we have a hosted endpoint running, we can make real-time predictions from our model very easily, simply by making an http POST request."
   ]
  },
  {
   "cell_type": "markdown",
   "id": "verified-tribute",
   "metadata": {
    "papermill": {
     "duration": null,
     "end_time": null,
     "exception": null,
     "start_time": null,
     "status": "pending"
    },
    "tags": []
   },
   "source": [
    "We'll use a simple function to:\n",
    "1. Loop over our test dataset\n",
    "1. Split it into mini-batches of rows \n",
    "1. Convert those mini-batchs to CSV string payloads\n",
    "1. Retrieve mini-batch predictions by invoking the XGBoost endpoint\n",
    "1. Collect predictions and convert from the CSV output our model provides into a NumPy array"
   ]
  },
  {
   "cell_type": "code",
   "execution_count": 17,
   "id": "brief-kitchen",
   "metadata": {
    "papermill": {
     "duration": null,
     "end_time": null,
     "exception": null,
     "start_time": null,
     "status": "pending"
    },
    "tags": []
   },
   "outputs": [],
   "source": [
    "def predict(data, rows=500):\n",
    "    split_array = np.array_split(data, int(data.shape[0] / float(rows) + 1))\n",
    "    predictions = \"\"\n",
    "    for array in split_array:\n",
    "        predictions = \",\".join([predictions, xgb_predictor.predict(array).decode(\"utf-8\")])\n",
    "\n",
    "    return np.fromstring(predictions[1:], sep=\",\")\n",
    "\n",
    "\n",
    "predictions = predict(test_data.values[:, 1:])"
   ]
  },
  {
   "cell_type": "markdown",
   "id": "worldwide-wholesale",
   "metadata": {
    "papermill": {
     "duration": null,
     "end_time": null,
     "exception": null,
     "start_time": null,
     "status": "pending"
    },
    "tags": []
   },
   "source": [
    "There are many ways to compare the performance of a machine learning model, but let's start by simply by comparing actual to predicted values.  In this case, we're simply predicting whether the customer churned (`1`) or not (`0`), which produces a simple confusion matrix."
   ]
  },
  {
   "cell_type": "code",
   "execution_count": 18,
   "id": "resident-presentation",
   "metadata": {
    "papermill": {
     "duration": null,
     "end_time": null,
     "exception": null,
     "start_time": null,
     "status": "pending"
    },
    "tags": []
   },
   "outputs": [
    {
     "data": {
      "text/html": [
       "<div>\n",
       "<style scoped>\n",
       "    .dataframe tbody tr th:only-of-type {\n",
       "        vertical-align: middle;\n",
       "    }\n",
       "\n",
       "    .dataframe tbody tr th {\n",
       "        vertical-align: top;\n",
       "    }\n",
       "\n",
       "    .dataframe thead th {\n",
       "        text-align: right;\n",
       "    }\n",
       "</style>\n",
       "<table border=\"1\" class=\"dataframe\">\n",
       "  <thead>\n",
       "    <tr style=\"text-align: right;\">\n",
       "      <th>predictions</th>\n",
       "      <th>0.0</th>\n",
       "      <th>1.0</th>\n",
       "    </tr>\n",
       "    <tr>\n",
       "      <th>actual</th>\n",
       "      <th></th>\n",
       "      <th></th>\n",
       "    </tr>\n",
       "  </thead>\n",
       "  <tbody>\n",
       "    <tr>\n",
       "      <th>0</th>\n",
       "      <td>235</td>\n",
       "      <td>18</td>\n",
       "    </tr>\n",
       "    <tr>\n",
       "      <th>1</th>\n",
       "      <td>11</td>\n",
       "      <td>236</td>\n",
       "    </tr>\n",
       "  </tbody>\n",
       "</table>\n",
       "</div>"
      ],
      "text/plain": [
       "predictions  0.0  1.0\n",
       "actual               \n",
       "0            235   18\n",
       "1             11  236"
      ]
     },
     "execution_count": 18,
     "metadata": {},
     "output_type": "execute_result"
    }
   ],
   "source": [
    "pd.crosstab(\n",
    "    index=test_data.iloc[:, 0],\n",
    "    columns=np.round(predictions),\n",
    "    rownames=[\"actual\"],\n",
    "    colnames=[\"predictions\"],\n",
    ")"
   ]
  },
  {
   "cell_type": "markdown",
   "id": "tribal-cruise",
   "metadata": {
    "papermill": {
     "duration": null,
     "end_time": null,
     "exception": null,
     "start_time": null,
     "status": "pending"
    },
    "tags": []
   },
   "source": [
    "_Note, due to randomized elements of the algorithm, you results may differ slightly._\n",
    "\n",
    "Of the 48 churners, we've correctly predicted 39 of them (true positives). And, we incorrectly predicted 4 customers would churn who then ended up not doing so (false positives).  There are also 9 customers who ended up churning, that we predicted would not (false negatives).\n",
    "\n",
    "An important point here is that because of the `np.round()` function above we are using a simple threshold (or cutoff) of 0.5.  Our predictions from `xgboost` come out as continuous values between 0 and 1 and we force them into the binary classes that we began with.  However, because a customer that churns is expected to cost the company more than proactively trying to retain a customer who we think might churn, we should consider adjusting this cutoff.  That will almost certainly increase the number of false positives, but it can also be expected to increase the number of true positives and reduce the number of false negatives.\n",
    "\n",
    "To get a rough intuition here, let's look at the continuous values of our predictions."
   ]
  },
  {
   "cell_type": "code",
   "execution_count": 19,
   "id": "interior-phrase",
   "metadata": {
    "papermill": {
     "duration": null,
     "end_time": null,
     "exception": null,
     "start_time": null,
     "status": "pending"
    },
    "tags": []
   },
   "outputs": [
    {
     "data": {
      "image/png": "[encoded data removed]",
      "text/plain": [
       "<Figure size 432x288 with 1 Axes>"
      ]
     },
     "metadata": {
      "needs_background": "light"
     },
     "output_type": "display_data"
    }
   ],
   "source": [
    "plt.hist(predictions)\n",
    "plt.show()"
   ]
  },
  {
   "cell_type": "markdown",
   "id": "greater-consumer",
   "metadata": {
    "papermill": {
     "duration": null,
     "end_time": null,
     "exception": null,
     "start_time": null,
     "status": "pending"
    },
    "tags": []
   },
   "source": [
    "The continuous valued predictions coming from our model tend to skew toward 0 or 1, but there is sufficient mass between 0.1 and 0.9 that adjusting the cutoff should indeed shift a number of customers' predictions.  For example..."
   ]
  },
  {
   "cell_type": "code",
   "execution_count": 20,
   "id": "collected-divide",
   "metadata": {
    "papermill": {
     "duration": null,
     "end_time": null,
     "exception": null,
     "start_time": null,
     "status": "pending"
    },
    "tags": []
   },
   "outputs": [
    {
     "data": {
      "text/html": [
       "<div>\n",
       "<style scoped>\n",
       "    .dataframe tbody tr th:only-of-type {\n",
       "        vertical-align: middle;\n",
       "    }\n",
       "\n",
       "    .dataframe tbody tr th {\n",
       "        vertical-align: top;\n",
       "    }\n",
       "\n",
       "    .dataframe thead th {\n",
       "        text-align: right;\n",
       "    }\n",
       "</style>\n",
       "<table border=\"1\" class=\"dataframe\">\n",
       "  <thead>\n",
       "    <tr style=\"text-align: right;\">\n",
       "      <th>col_0</th>\n",
       "      <th>0</th>\n",
       "      <th>1</th>\n",
       "    </tr>\n",
       "    <tr>\n",
       "      <th>Churn?_True.</th>\n",
       "      <th></th>\n",
       "      <th></th>\n",
       "    </tr>\n",
       "  </thead>\n",
       "  <tbody>\n",
       "    <tr>\n",
       "      <th>0</th>\n",
       "      <td>221</td>\n",
       "      <td>32</td>\n",
       "    </tr>\n",
       "    <tr>\n",
       "      <th>1</th>\n",
       "      <td>2</td>\n",
       "      <td>245</td>\n",
       "    </tr>\n",
       "  </tbody>\n",
       "</table>\n",
       "</div>"
      ],
      "text/plain": [
       "col_0           0    1\n",
       "Churn?_True.          \n",
       "0             221   32\n",
       "1               2  245"
      ]
     },
     "execution_count": 20,
     "metadata": {},
     "output_type": "execute_result"
    }
   ],
   "source": [
    "pd.crosstab(index=test_data.iloc[:, 0], columns=np.where(predictions > 0.3, 1, 0))"
   ]
  },
  {
   "cell_type": "markdown",
   "id": "effective-sudan",
   "metadata": {
    "papermill": {
     "duration": null,
     "end_time": null,
     "exception": null,
     "start_time": null,
     "status": "pending"
    },
    "tags": []
   },
   "source": [
    "We can see that changing the cutoff from 0.5 to 0.3 results in 1 more true positives, 3 more false positives, and 1 fewer false negatives.  The numbers are small overall here, but that's 6-10% of customers overall that are shifting because of a change to the cutoff.  Was this the right decision?  We may end up retaining 3 extra customers, but we also unnecessarily incentivized 5 more customers who would have stayed.  Determining optimal cutoffs is a key step in properly applying machine learning in a real-world setting.  Let's discuss this more broadly and then apply a specific, hypothetical solution for our current problem.\n",
    "\n",
    "### Relative cost of errors\n",
    "\n",
    "Any practical binary classification problem is likely to produce a similarly sensitive cutoff. That by itself isn’t a problem. After all, if the scores for two classes are really easy to separate, the problem probably isn’t very hard to begin with and might even be solvable with simple rules instead of ML.\n",
    "\n",
    "More important, if I put an ML model into production, there are costs associated with the model erroneously assigning false positives and false negatives. I also need to look at similar costs associated with correct predictions of true positives and true negatives.  Because the choice of the cutoff affects all four of these statistics, I need to consider the relative costs to the business for each of these four outcomes for each prediction.\n",
    "\n",
    "#### Assigning costs\n",
    "\n",
    "What are the costs for our problem of mobile operator churn? The costs, of course, depend on the specific actions that the business takes. Let's make some assumptions here.\n",
    "\n",
    "First, assign the true negatives the cost of \\$0. Our model essentially correctly identified a happy customer in this case, and we don’t need to do anything.\n",
    "\n",
    "False negatives are the most problematic, because they incorrectly predict that a churning customer will stay. We lose the customer and will have to pay all the costs of acquiring a replacement customer, including foregone revenue, advertising costs, administrative costs, point of sale costs, and likely a phone hardware subsidy. A quick search on the Internet reveals that such costs typically run in the hundreds of dollars so, for the purposes of this example, let's assume \\$500. This is the cost of false negatives.\n",
    "\n",
    "Finally, for customers that our model identifies as churning, let's assume a retention incentive in the amount of \\\\$100. If my provider offered me such a concession, I’d certainly think twice before leaving. This is the cost of both true positive and false positive outcomes. In the case of false positives (the customer is happy, but the model mistakenly predicted churn), we will “waste” the \\\\$100 concession. We probably could have spent that \\\\$100 more effectively, but it's possible we increased the loyalty of an already loyal customer, so that’s not so bad."
   ]
  },
  {
   "cell_type": "markdown",
   "id": "affected-match",
   "metadata": {
    "papermill": {
     "duration": null,
     "end_time": null,
     "exception": null,
     "start_time": null,
     "status": "pending"
    },
    "tags": []
   },
   "source": [
    "#### Finding the optimal cutoff\n",
    "\n",
    "It’s clear that false negatives are substantially more costly than false positives. Instead of optimizing for error based on the number of customers, we should be minimizing a cost function that looks like this:\n",
    "\n",
    "```txt\n",
    "$500 * FN(C) + $0 * TN(C) + $100 * FP(C) + $100 * TP(C)\n",
    "```\n",
    "\n",
    "FN(C) means that the false negative percentage is a function of the cutoff, C, and similar for TN, FP, and TP.  We need to find the cutoff, C, where the result of the expression is smallest.\n",
    "\n",
    "A straightforward way to do this, is to simply run a simulation over a large number of possible cutoffs.  We test 100 possible values in the for loop below."
   ]
  },
  {
   "cell_type": "code",
   "execution_count": 21,
   "id": "greenhouse-focus",
   "metadata": {
    "papermill": {
     "duration": null,
     "end_time": null,
     "exception": null,
     "start_time": null,
     "status": "pending"
    },
    "tags": []
   },
   "outputs": [
    {
     "data": {
      "image/png": "[encoded data removed]",
      "text/plain": [
       "<Figure size 432x288 with 1 Axes>"
      ]
     },
     "metadata": {
      "needs_background": "light"
     },
     "output_type": "display_data"
    },
    {
     "name": "stdout",
     "output_type": "stream",
     "text": [
      "Cost is minimized near a cutoff of: 0.32 for a cost of: 28400\n"
     ]
    }
   ],
   "source": [
    "cutoffs = np.arange(0.01, 1, 0.01)\n",
    "costs = []\n",
    "for c in cutoffs:\n",
    "    costs.append(\n",
    "        np.sum(\n",
    "            np.sum(\n",
    "                np.array([[0, 100], [500, 100]])\n",
    "                * pd.crosstab(index=test_data.iloc[:, 0], columns=np.where(predictions > c, 1, 0))\n",
    "            )\n",
    "        )\n",
    "    )\n",
    "\n",
    "costs = np.array(costs)\n",
    "plt.plot(cutoffs, costs)\n",
    "plt.show()\n",
    "print(\n",
    "    \"Cost is minimized near a cutoff of:\",\n",
    "    cutoffs[np.argmin(costs)],\n",
    "    \"for a cost of:\",\n",
    "    np.min(costs),\n",
    ")"
   ]
  },
  {
   "cell_type": "markdown",
   "id": "appointed-jacob",
   "metadata": {
    "papermill": {
     "duration": null,
     "end_time": null,
     "exception": null,
     "start_time": null,
     "status": "pending"
    },
    "tags": []
   },
   "source": [
    "The above chart shows how picking a threshold too low results in costs skyrocketing as all customers are given a retention incentive.  Meanwhile, setting the threshold too high results in too many lost customers, which ultimately grows to be nearly as costly.  The overall cost can be minimized at \\\\$ 8400 by setting the cutoff to 0.46, which is substantially better than the\n",
    "\\\\$ 20k+ I would expect to lose by not taking any action."
   ]
  },
  {
   "cell_type": "markdown",
   "id": "hydraulic-encyclopedia",
   "metadata": {
    "papermill": {
     "duration": null,
     "end_time": null,
     "exception": null,
     "start_time": null,
     "status": "pending"
    },
    "tags": []
   },
   "source": [
    "---\n",
    "## Extensions\n",
    "\n",
    "This notebook showcased how to build a model that predicts whether a customer is likely to churn, and then how to optimally set a threshold that accounts for the cost of true positives, false positives, and false negatives.  There are several means of extending it including:\n",
    "- Some customers who receive retention incentives will still churn.  Including a probability of churning despite receiving an incentive in our cost function would provide a better ROI on our retention programs.\n",
    "- Customers who switch to a lower-priced plan or who deactivate a paid feature represent different kinds of churn that could be modeled separately.\n",
    "- Modeling the evolution of customer behavior. If usage is dropping and the number of calls placed to Customer Service is increasing, you are more likely to experience churn then if the trend is the opposite. A customer profile should incorporate behavior trends.\n",
    "- Actual training data and monetary cost assignments could be more complex.\n",
    "- Multiple models for each type of churn could be needed.\n",
    "\n",
    "Regardless of additional complexity, similar principles described in this notebook are likely apply."
   ]
  },
  {
   "cell_type": "markdown",
   "id": "favorite-round",
   "metadata": {
    "papermill": {
     "duration": null,
     "end_time": null,
     "exception": null,
     "start_time": null,
     "status": "pending"
    },
    "tags": []
   },
   "source": [
    "### Optimizing model for prediction using Neo API\n",
    "Neo API allows to optimize our model for a specific hardware type. When calling `compile_model()` function, we specify the target instance family (C5) as well as the S3 bucket to which the compiled model would be stored.\n",
    "\n",
    "**Important. If the following command result in a permission error, scroll up and locate the value of execution role returned by `get_execution_role()`. The role must have access to the S3 bucket specified in ``output_path``.**"
   ]
  },
  {
   "cell_type": "code",
   "execution_count": 22,
   "id": "sound-astronomy",
   "metadata": {
    "papermill": {
     "duration": null,
     "end_time": null,
     "exception": null,
     "start_time": null,
     "status": "pending"
    },
    "tags": []
   },
   "outputs": [
    {
     "data": {
      "text/plain": [
       "'s3://sagemaker-us-west-2-688520471316/DEMO-xgboost-churn'"
      ]
     },
     "execution_count": 22,
     "metadata": {},
     "output_type": "execute_result"
    }
   ],
   "source": [
    "\"/\".join(xgb.output_path.split(\"/\")[:-1])"
   ]
  },
  {
   "cell_type": "code",
   "execution_count": 23,
   "id": "affecting-criminal",
   "metadata": {
    "papermill": {
     "duration": null,
     "end_time": null,
     "exception": null,
     "start_time": null,
     "status": "pending"
    },
    "tags": []
   },
   "outputs": [
    {
     "name": "stdout",
     "output_type": "stream",
     "text": [
      "?..................................!"
     ]
    }
   ],
   "source": [
    "output_path = \"/\".join(xgb.output_path.split(\"/\")[:-1])\n",
    "compiled_model = xgb.compile_model(\n",
    "    target_instance_family=\"ml_c5\",\n",
    "    input_shape={\"data\": [1, 69]},\n",
    "    role=role,\n",
    "    framework=\"xgboost\",\n",
    "    framework_version=\"latest\",\n",
    "    output_path=output_path,\n",
    ")"
   ]
  },
  {
   "cell_type": "markdown",
   "id": "increased-marijuana",
   "metadata": {
    "papermill": {
     "duration": null,
     "end_time": null,
     "exception": null,
     "start_time": null,
     "status": "pending"
    },
    "tags": []
   },
   "source": [
    "### Creating an inference Endpoint\n",
    "\n",
    "We can deploy this compiled model, note that we need to use the same instance that the target we used for compilation. This creates a SageMaker endpoint that we can use to perform inference. \n",
    "\n",
    "The arguments to the ``deploy`` function allow us to set the number and type of instances that will be used for the Endpoint. Make sure to choose an instance for which you have compiled your model, so in our case  `ml_c5`. Neo API uses a special runtime (DLR runtime), in which our optimzed model will run.\n",
    "\n",
    "The compiled model accepts CSV content type:"
   ]
  },
  {
   "cell_type": "code",
   "execution_count": 24,
   "id": "horizontal-virus",
   "metadata": {
    "papermill": {
     "duration": null,
     "end_time": null,
     "exception": null,
     "start_time": null,
     "status": "pending"
    },
    "tags": []
   },
   "outputs": [
    {
     "name": "stderr",
     "output_type": "stream",
     "text": [
      "Using already existing model: deployed-xgboost-customer-churn\n"
     ]
    },
    {
     "name": "stdout",
     "output_type": "stream",
     "text": [
      "-----!"
     ]
    }
   ],
   "source": [
    "# known issue: need to manually specify endpoint name\n",
    "compiled_model.name = \"deployed-xgboost-customer-churn\"\n",
    "\n",
    "compiled_predictor = compiled_model.deploy(\n",
    "    initial_instance_count=1, instance_type=\"ml.c5.4xlarge\", serializer=CSVSerializer()\n",
    ")"
   ]
  },
  {
   "cell_type": "markdown",
   "id": "naughty-madagascar",
   "metadata": {
    "papermill": {
     "duration": null,
     "end_time": null,
     "exception": null,
     "start_time": null,
     "status": "pending"
    },
    "tags": []
   },
   "source": [
    "### Making an inference request\n"
   ]
  },
  {
   "cell_type": "code",
   "execution_count": 25,
   "id": "infrared-testament",
   "metadata": {
    "papermill": {
     "duration": null,
     "end_time": null,
     "exception": null,
     "start_time": null,
     "status": "pending"
    },
    "tags": []
   },
   "outputs": [],
   "source": [
    "def optimized_predict(data, rows=500):\n",
    "    split_array = np.array_split(data, int(data.shape[0] / float(rows) + 1))\n",
    "    predictions = \"\"\n",
    "    for array in split_array:\n",
    "        predictions = \",\".join([predictions, compiled_predictor.predict(array).decode(\"utf-8\")])\n",
    "\n",
    "    return np.fromstring(predictions[1:], sep=\",\")\n",
    "\n",
    "\n",
    "predictions = optimized_predict(test_data.values[:, 1:])"
   ]
  },
  {
   "cell_type": "markdown",
   "id": "alive-lending",
   "metadata": {
    "papermill": {
     "duration": null,
     "end_time": null,
     "exception": null,
     "start_time": null,
     "status": "pending"
    },
    "tags": []
   },
   "source": [
    "### Clean up sagemaker version"
   ]
  },
  {
   "cell_type": "code",
   "execution_count": 26,
   "id": "negative-strike",
   "metadata": {
    "papermill": {
     "duration": null,
     "end_time": null,
     "exception": null,
     "start_time": null,
     "status": "pending"
    },
    "tags": []
   },
   "outputs": [
    {
     "name": "stdout",
     "output_type": "stream",
     "text": [
      "Original version: 2.42.1\n",
      "Current version: 2.42.1\n",
      "Rolling back to... sagemaker==2.42.1\n",
      "\u001b[31mERROR: awscli 1.19.86 has requirement botocore==1.20.86, but you'll have botocore 1.19.63 which is incompatible.\u001b[0m\n",
      "\u001b[31mERROR: awscli 1.19.86 has requirement s3transfer<0.5.0,>=0.4.0, but you'll have s3transfer 0.3.7 which is incompatible.\u001b[0m\n",
      "Note: you may need to restart the kernel to use updated packages.\n"
     ]
    }
   ],
   "source": [
    "# rollback the SageMaker Python SDK to the kernel's original version\n",
    "with open(\"orig_sm_version.txt\", \"r\") as f:\n",
    "    orig_sm_version = f.read()\n",
    "\n",
    "print(\"Original version: {}\".format(orig_sm_version))\n",
    "print(\"Current version: {}\".format(sagemaker.__version__))\n",
    "s = \"sagemaker=={}\".format(orig_sm_version)\n",
    "print(\"Rolling back to... {}\".format(s))\n",
    "%pip install --no-cache-dir -qU {s}\n",
    "%rm orig_sm_version.txt"
   ]
  },
  {
   "cell_type": "markdown",
   "id": "fallen-width",
   "metadata": {
    "papermill": {
     "duration": null,
     "end_time": null,
     "exception": null,
     "start_time": null,
     "status": "pending"
    },
    "tags": []
   },
   "source": [
    "### (Optional) Clean-up\n",
    "\n",
    "If you're ready to be done with this notebook, please run the cell below.  This will remove the hosted endpoint you created and avoid any charges from a stray instance being left on."
   ]
  },
  {
   "cell_type": "code",
   "execution_count": 27,
   "id": "identified-yesterday",
   "metadata": {
    "papermill": {
     "duration": null,
     "end_time": null,
     "exception": null,
     "start_time": null,
     "status": "pending"
    },
    "tags": []
   },
   "outputs": [],
   "source": [
    "xgb_predictor.delete_endpoint()\n",
    "compiled_predictor.delete_endpoint()"
   ]
  }
 ],
 "metadata": {
  "kernelspec": {
   "display_name": "Environment (conda_python3)",
   "language": "python",
   "name": "conda_python3"
  },
  "language_info": {
   "codemirror_mode": {
    "name": "ipython",
    "version": 3
   },
   "file_extension": ".py",
   "mimetype": "text/x-python",
   "name": "python",
   "nbconvert_exporter": "python",
   "pygments_lexer": "ipython3",
   "version": "3.6.10"
  },
  "notice": "Copyright 2017 Amazon.com, Inc. or its affiliates. All Rights Reserved.  Licensed under the Apache License, Version 2.0 (the \"License\"). You may not use this file except in compliance with the License. A copy of the License is located at http://aws.amazon.com/apache2.0/ or in the \"license\" file accompanying this file. This file is distributed on an \"AS IS\" BASIS, WITHOUT WARRANTIES OR CONDITIONS OF ANY KIND, either express or implied. See the License for the specific language governing permissions and limitations under the License.",
  "papermill": {
   "default_parameters": {},
   "duration": 5.743507,
   "end_time": "2021-06-14T00:09:35.595732",
   "environment_variables": {},
   "exception": true,
   "input_path": "xgboost_customer_churn_neo.ipynb",
   "output_path": "/opt/ml/processing/output/xgboost_customer_churn_neo-2021-06-14-00-05-16.ipynb",
   "parameters": {
    "kms_key": "arn:aws:kms:us-west-2:521695447989:key/6e9984db-50cf-4c7e-926c-877ec47a8b25"
   },
   "start_time": "2021-06-14T00:09:29.852225",
   "version": "2.3.3"
  }
 },
 "nbformat": 4,
 "nbformat_minor": 5
}
