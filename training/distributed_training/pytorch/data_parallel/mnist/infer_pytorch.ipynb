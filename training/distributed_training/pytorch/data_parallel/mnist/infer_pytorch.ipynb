{
 "cells": [
  {
   "cell_type": "markdown",
   "id": "norman-cargo",
   "metadata": {
    "papermill": {
     "duration": 0.00594,
     "end_time": "2021-06-14T00:07:20.894188",
     "exception": false,
     "start_time": "2021-06-14T00:07:20.888248",
     "status": "completed"
    },
    "tags": []
   },
   "source": [
    "# Part 2: Deploy a model trained using SageMaker distributed data parallel\n",
    "\n",
    "Use this notebook after you have completed **Part 1: Distributed data parallel MNIST training with PyTorch and SageMaker's distributed data parallel library** in the notebook pytorch_smdataparallel_mnist_demo.ipynb. To deploy the model you previously trained, you need to create a Sagemaker Endpoint. This is a hosted prediction service that you can use to perform inference.\n",
    "\n",
    "## Finding the model\n",
    "\n",
    "This notebook uses a stored model if it exists. If you recently ran a training example that use the `%store%` magic, it will be restored in the next cell.\n",
    "\n",
    "Otherwise, you can pass the URI to the model file (a .tar.gz file) in the `model_data` variable.\n",
    "\n",
    "To find the location of model files in the [SageMaker console](https://console.aws.amazon.com/sagemaker/home), do the following: \n",
    "\n",
    "1. Go to the SageMaker console: https://console.aws.amazon.com/sagemaker/home.\n",
    "1. Select **Training** in the left navigation pane and then Select **Training jobs**. \n",
    "1. Find your recent training job and choose it.\n",
    "1. In the **Output** section, you should see an S3 URI under **S3 model artifact**. Copy this S3 URI.\n",
    "1. Uncomment the `model_data` line in the next cell that manually sets the model's URI and replace the placeholder value with that S3 URI."
   ]
  },
  {
   "cell_type": "code",
   "execution_count": 66,
   "id": "sonic-pension",
   "metadata": {
    "execution": {
     "iopub.execute_input": "2021-06-14T00:07:20.910290Z",
     "iopub.status.busy": "2021-06-14T00:07:20.909520Z",
     "iopub.status.idle": "2021-06-14T00:07:20.952389Z",
     "shell.execute_reply": "2021-06-14T00:07:20.951473Z"
    },
    "papermill": {
     "duration": 0.052442,
     "end_time": "2021-06-14T00:07:20.952579",
     "exception": true,
     "start_time": "2021-06-14T00:07:20.900137",
     "status": "failed"
    },
    "tags": []
   },
   "outputs": [
    {
     "name": "stdout",
     "output_type": "stream",
     "text": [
      "Using this model: s3://sagemaker-us-west-2-688520471316/pytorch-smdataparallel-mnist-2021-06-14-23-25-29-876/output/model.tar.gz\n"
     ]
    }
   ],
   "source": [
    "%store -r model_data\n",
    "try:\n",
    "    model_data\n",
    "except NameError:\n",
    "    model_data = 's3://sagemaker-sample-files/models/pytorch-smdataparallel-mnist-2021-06-14-23-25-29-876/output/model.tar.gz'\n",
    "    \n",
    "print(\"Using this model: {}\".format(model_data))"
   ]
  },
  {
   "cell_type": "markdown",
   "id": "civilian-gross",
   "metadata": {
    "papermill": {
     "duration": null,
     "end_time": null,
     "exception": null,
     "start_time": null,
     "status": "pending"
    },
    "tags": []
   },
   "source": [
    "## Create a model object\n",
    "\n",
    "You define the model object by using the SageMaker Python SDK's `PyTorchModel` and pass in the model from the `estimator` and the `entry_point`. The endpoint's entry point for inference is defined by `model_fn` as seen in the following code block that prints out `inference.py`. The function loads the model and sets it to use a GPU, if available."
   ]
  },
  {
   "cell_type": "code",
   "execution_count": 48,
   "id": "statutory-audience",
   "metadata": {},
   "outputs": [
    {
     "name": "stdout",
     "output_type": "stream",
     "text": [
      "download: s3://sagemaker-sample-files/datasets/image/MNIST/model/pytorch-training-2020-11-21-22-02-56-203/model.tar.gz to ./model.tar.gz\n"
     ]
    }
   ],
   "source": [
    "!aws s3 cp s3://sagemaker-sample-files/datasets/image/MNIST/model/pytorch-training-2020-11-21-22-02-56-203/model.tar.gz ."
   ]
  },
  {
   "cell_type": "code",
   "execution_count": 49,
   "id": "martial-amber",
   "metadata": {},
   "outputs": [
    {
     "name": "stdout",
     "output_type": "stream",
     "text": [
      "model.pth\n"
     ]
    }
   ],
   "source": [
    "!tar -xvzf model.tar.gz"
   ]
  },
  {
   "cell_type": "code",
   "execution_count": 50,
   "id": "shaped-headquarters",
   "metadata": {
    "papermill": {
     "duration": null,
     "end_time": null,
     "exception": null,
     "start_time": null,
     "status": "pending"
    },
    "tags": []
   },
   "outputs": [
    {
     "name": "stdout",
     "output_type": "stream",
     "text": [
      "\u001b[37m# Licensed to the Apache Software Foundation (ASF) under one\u001b[39;49;00m\n",
      "\u001b[37m# or more contributor license agreements.  See the NOTICE file\u001b[39;49;00m\n",
      "\u001b[37m# distributed with this work for additional information\u001b[39;49;00m\n",
      "\u001b[37m# regarding copyright ownership.  The ASF licenses this file\u001b[39;49;00m\n",
      "\u001b[37m# to you under the Apache License, Version 2.0 (the\u001b[39;49;00m\n",
      "\u001b[37m# \"License\"); you may not use this file except in compliance\u001b[39;49;00m\n",
      "\u001b[37m# with the License.  You may obtain a copy of the License at\u001b[39;49;00m\n",
      "\u001b[37m#\u001b[39;49;00m\n",
      "\u001b[37m#   http://www.apache.org/licenses/LICENSE-2.0\u001b[39;49;00m\n",
      "\u001b[37m#\u001b[39;49;00m\n",
      "\u001b[37m# Unless required by applicable law or agreed to in writing,\u001b[39;49;00m\n",
      "\u001b[37m# software distributed under the License is distributed on an\u001b[39;49;00m\n",
      "\u001b[37m# \"AS IS\" BASIS, WITHOUT WARRANTIES OR CONDITIONS OF ANY\u001b[39;49;00m\n",
      "\u001b[37m# KIND, either express or implied.  See the License for the\u001b[39;49;00m\n",
      "\u001b[37m# specific language governing permissions and limitations\u001b[39;49;00m\n",
      "\u001b[37m# under the License.\u001b[39;49;00m\n",
      "\n",
      "\u001b[34mfrom\u001b[39;49;00m \u001b[04m\u001b[36m__future__\u001b[39;49;00m \u001b[34mimport\u001b[39;49;00m print_function\n",
      "\n",
      "\u001b[34mimport\u001b[39;49;00m \u001b[04m\u001b[36mos\u001b[39;49;00m\n",
      "\n",
      "\u001b[34mimport\u001b[39;49;00m \u001b[04m\u001b[36mtorch\u001b[39;49;00m\n",
      "\n",
      "\u001b[37m# Network definition\u001b[39;49;00m\n",
      "\u001b[34mfrom\u001b[39;49;00m \u001b[04m\u001b[36mmodel_def\u001b[39;49;00m \u001b[34mimport\u001b[39;49;00m Net\n",
      "\n",
      "\n",
      "\u001b[34mdef\u001b[39;49;00m \u001b[32mmodel_fn\u001b[39;49;00m(model_dir):\n",
      "    \u001b[36mprint\u001b[39;49;00m(\u001b[33m\"\u001b[39;49;00m\u001b[33mIn model_fn. Model directory is -\u001b[39;49;00m\u001b[33m\"\u001b[39;49;00m)\n",
      "    \u001b[36mprint\u001b[39;49;00m(model_dir)\n",
      "    device = torch.device(\u001b[33m\"\u001b[39;49;00m\u001b[33mcuda\u001b[39;49;00m\u001b[33m\"\u001b[39;49;00m \u001b[34mif\u001b[39;49;00m torch.cuda.is_available() \u001b[34melse\u001b[39;49;00m \u001b[33m\"\u001b[39;49;00m\u001b[33mcpu\u001b[39;49;00m\u001b[33m\"\u001b[39;49;00m)\n",
      "    model = Net()\n",
      "    \u001b[34mwith\u001b[39;49;00m \u001b[36mopen\u001b[39;49;00m(os.path.join(model_dir, \u001b[33m\"\u001b[39;49;00m\u001b[33mmodel.pth\u001b[39;49;00m\u001b[33m\"\u001b[39;49;00m), \u001b[33m\"\u001b[39;49;00m\u001b[33mrb\u001b[39;49;00m\u001b[33m\"\u001b[39;49;00m) \u001b[34mas\u001b[39;49;00m f:\n",
      "        \u001b[36mprint\u001b[39;49;00m(\u001b[33m\"\u001b[39;49;00m\u001b[33mLoading the mnist model\u001b[39;49;00m\u001b[33m\"\u001b[39;49;00m)\n",
      "        model.load_state_dict(torch.load(f, map_location=device))\n",
      "    \u001b[34mreturn\u001b[39;49;00m model\n",
      "\n",
      "\u001b[34mif\u001b[39;49;00m \u001b[31m__name__\u001b[39;49;00m == \u001b[33m'\u001b[39;49;00m\u001b[33m__main__\u001b[39;49;00m\u001b[33m'\u001b[39;49;00m:\n",
      "    model = model_fn(\u001b[33m\"\u001b[39;49;00m\u001b[33m../\u001b[39;49;00m\u001b[33m\"\u001b[39;49;00m)\n"
     ]
    }
   ],
   "source": [
    "!pygmentize code/inference.py"
   ]
  },
  {
   "cell_type": "code",
   "execution_count": 67,
   "id": "interested-accreditation",
   "metadata": {
    "papermill": {
     "duration": null,
     "end_time": null,
     "exception": null,
     "start_time": null,
     "status": "pending"
    },
    "tags": []
   },
   "outputs": [],
   "source": [
    "import sagemaker\n",
    "\n",
    "role = sagemaker.get_execution_role()\n",
    "\n",
    "from sagemaker.pytorch import PyTorchModel\n",
    "\n",
    "model = PyTorchModel(\n",
    "    model_data=model_data,\n",
    "    source_dir=\"code\",\n",
    "    entry_point=\"inference.py\",\n",
    "    role=role,\n",
    "    framework_version=\"1.6.0\",\n",
    "    py_version=\"py3\",\n",
    ")"
   ]
  },
  {
   "cell_type": "markdown",
   "id": "verbal-posting",
   "metadata": {
    "papermill": {
     "duration": null,
     "end_time": null,
     "exception": null,
     "start_time": null,
     "status": "pending"
    },
    "tags": []
   },
   "source": [
    "### Deploy the model on an endpoint\n",
    "\n",
    "You create a `predictor` by using the `model.deploy` function. You can optionally change both the instance count and instance type."
   ]
  },
  {
   "cell_type": "code",
   "execution_count": 68,
   "id": "received-integral",
   "metadata": {
    "papermill": {
     "duration": null,
     "end_time": null,
     "exception": null,
     "start_time": null,
     "status": "pending"
    },
    "tags": []
   },
   "outputs": [
    {
     "name": "stdout",
     "output_type": "stream",
     "text": [
      "-------!"
     ]
    }
   ],
   "source": [
    "predictor = model.deploy(\n",
    "    initial_instance_count=1, \n",
    "    instance_type=\"ml.m4.xlarge\")"
   ]
  },
  {
   "cell_type": "markdown",
   "id": "governing-provider",
   "metadata": {
    "papermill": {
     "duration": null,
     "end_time": null,
     "exception": null,
     "start_time": null,
     "status": "pending"
    },
    "tags": []
   },
   "source": [
    "## Test the model\n",
    "You can test the depolyed model using samples from the test set.\n"
   ]
  },
  {
   "cell_type": "code",
   "execution_count": 54,
   "id": "heated-nation",
   "metadata": {},
   "outputs": [
    {
     "name": "stdout",
     "output_type": "stream",
     "text": [
      "download: s3://sagemaker-sample-files/datasets/image/MNIST/pytorch/MNIST/raw/t10k-labels-idx1-ubyte to data/MNIST/raw/t10k-labels-idx1-ubyte\n",
      "download: s3://sagemaker-sample-files/datasets/image/MNIST/pytorch/MNIST/raw/t10k-labels-idx1-ubyte.gz to data/MNIST/raw/t10k-labels-idx1-ubyte.gz\n",
      "download: s3://sagemaker-sample-files/datasets/image/MNIST/pytorch/MNIST/raw/train-labels-idx1-ubyte to data/MNIST/raw/train-labels-idx1-ubyte\n",
      "download: s3://sagemaker-sample-files/datasets/image/MNIST/pytorch/MNIST/raw/train-labels-idx1-ubyte.gz to data/MNIST/raw/train-labels-idx1-ubyte.gz\n",
      "download: s3://sagemaker-sample-files/datasets/image/MNIST/pytorch/MNIST/raw/t10k-images-idx3-ubyte.gz to data/MNIST/raw/t10k-images-idx3-ubyte.gz\n",
      "download: s3://sagemaker-sample-files/datasets/image/MNIST/pytorch/MNIST/processed/test.pt to data/MNIST/processed/test.pt\n",
      "download: s3://sagemaker-sample-files/datasets/image/MNIST/pytorch/MNIST/raw/t10k-images-idx3-ubyte to data/MNIST/raw/t10k-images-idx3-ubyte\n",
      "download: s3://sagemaker-sample-files/datasets/image/MNIST/pytorch/MNIST/raw/train-images-idx3-ubyte.gz to data/MNIST/raw/train-images-idx3-ubyte.gz\n",
      "download: s3://sagemaker-sample-files/datasets/image/MNIST/pytorch/MNIST/processed/training.pt to data/MNIST/processed/training.pt\n",
      "download: s3://sagemaker-sample-files/datasets/image/MNIST/pytorch/MNIST/raw/train-images-idx3-ubyte to data/MNIST/raw/train-images-idx3-ubyte\n"
     ]
    }
   ],
   "source": [
    "!aws s3 cp s3://sagemaker-sample-files/datasets/image/MNIST/pytorch/ data/ --recursive"
   ]
  },
  {
   "cell_type": "code",
   "execution_count": 69,
   "id": "opened-longer",
   "metadata": {
    "papermill": {
     "duration": null,
     "end_time": null,
     "exception": null,
     "start_time": null,
     "status": "pending"
    },
    "tags": []
   },
   "outputs": [
    {
     "name": "stdout",
     "output_type": "stream",
     "text": [
      "Sampled test images: \n"
     ]
    },
    {
     "data": {
      "image/png": "[encoded data removed]",
      "text/plain": [
       "<Figure size 432x288 with 1 Axes>"
      ]
     },
     "metadata": {
      "needs_background": "light"
     },
     "output_type": "display_data"
    }
   ],
   "source": [
    "# Download the test set\n",
    "from torchvision import datasets, transforms\n",
    "from torch.utils.data import DataLoader\n",
    "\n",
    "\n",
    "test_set = datasets.MNIST(\n",
    "    \"data\",\n",
    "    download=False,\n",
    "    train=False,\n",
    "    transform=transforms.Compose(\n",
    "        [transforms.ToTensor(), \n",
    "         transforms.Normalize((0.1307,), (0.3081,))]\n",
    "    ),\n",
    ")\n",
    "\n",
    "\n",
    "# Randomly sample 16 images from the test set\n",
    "test_loader = DataLoader(test_set, shuffle=True, batch_size=16)\n",
    "test_images, _ = iter(test_loader).next()\n",
    "\n",
    "# inspect the images\n",
    "import torchvision\n",
    "import numpy as np\n",
    "import matplotlib.pyplot as plt\n",
    "\n",
    "%matplotlib inline\n",
    "\n",
    "\n",
    "def imshow(img):\n",
    "    img = img.numpy()\n",
    "    img = np.transpose(img, (1, 2, 0))\n",
    "    plt.imshow(img)\n",
    "    return\n",
    "\n",
    "\n",
    "# unnormalize the test images for displaying\n",
    "unnorm_images = (test_images * 0.3081) + 0.1307\n",
    "\n",
    "print(\"Sampled test images: \")\n",
    "imshow(torchvision.utils.make_grid(unnorm_images))"
   ]
  },
  {
   "cell_type": "code",
   "execution_count": 70,
   "id": "positive-albert",
   "metadata": {},
   "outputs": [],
   "source": [
    "import json\n",
    "x = json.dumps(\n",
    "    {'inputs': test_images.numpy().tolist()}\n",
    ")"
   ]
  },
  {
   "cell_type": "code",
   "execution_count": 98,
   "id": "unusual-seven",
   "metadata": {},
   "outputs": [
    {
     "name": "stdout",
     "output_type": "stream",
     "text": [
      "Type of the response:  <class 'str'>\n",
      "\n",
      "[[-12.683966636657715, -15.583731651306152, -16.82354736328125, -14.31031608581543, -17.567811965942383, -18.241670608520508, -23.944087982177734, -0.00017474555352237076, -18.168739318847656, -8.67503547668457], [-15.990324974060059, -3.528532761265524e-05, -19.912044525146484, -17.104673385620117, -10.694605827331543, -15.944657325744629, -12.563192367553711, -13.89238452911377, -11.731773376464844, -18.111629486083984], [-0.00022396916756406426, -18.5643367767334, -9.66037368774414, -14.587813377380371, -20.711790084838867, -14.264082908630371, -9.375843048095703, -17.067075729370117, -9.5098295211792, -15.248885154724121], [-14.938820838928223, -11.0601167678833, -10.756078720092773, -0.0003070359816774726, -16.164020538330078, -8.497347831726074, -12.632866859436035, -12.477546691894531, -9.748777389526367, -16.144498825073242], [-36.28738021850586, -21.581363677978516, 0.0, -29.859779357910156, -26.876676559448242, -31.381324768066406, -33.51493835449219, -24.791362762451172, -25.551620483398438, -40.592506408691406], [-1.1920928244535389e-07, -22.655555725097656, -18.77987289428711, -22.16771697998047, -26.6544246673584, -17.41107940673828, -17.07466697692871, -22.906843185424805, -19.405437469482422, -16.53152084350586], [-18.21503448486328, -27.344295501708984, -3.576278118089249e-07, -24.334129333496094, -26.017757415771484, -28.154430389404297, -28.568811416625977, -19.715171813964844, -15.027743339538574, -29.692222595214844], [-19.873205184936523, -20.840085983276367, -26.46803092956543, -19.235380172729492, -10.074846267700195, -17.71527862548828, -22.3561954498291, -6.0033392906188965, -17.353300094604492, -0.0025157250929623842], [-18.41873550415039, -11.121536254882812, -0.0018880413845181465, -6.351776599884033, -26.739822387695312, -18.108158111572266, -15.775346755981445, -9.002734184265137, -12.277530670166016, -21.538143157958984], [-39.533416748046875, -41.08202362060547, -32.70197296142578, -24.876340866088867, -24.877655029296875, 0.0, -24.990671157836914, -42.4517707824707, -17.962913513183594, -18.711137771606445], [-4.6316423416137695, -20.53548812866211, -11.7354736328125, -10.957742691040039, -15.805801391601562, -9.916229248046875, -12.511516571044922, -24.044082641601562, -0.009868642315268517, -12.817480087280273], [-6.868681907653809, -9.33751106262207, -5.86972188949585, -9.259156227111816, -0.022315815091133118, -10.020797729492188, -10.10827922821045, -11.782122611999512, -5.680657386779785, -4.23238468170166], [-9.417489309271332e-06, -21.093679428100586, -12.031648635864258, -20.00576400756836, -14.646146774291992, -27.90035057067871, -22.27112579345703, -12.925065040588379, -16.92646598815918, -14.267180442810059], [-20.212980270385742, -19.71699333190918, -23.890644073486328, -20.335508346557617, -6.139089964563027e-05, -17.07236099243164, -20.803585052490234, -17.109556198120117, -9.708574295043945, -14.255268096923828], [-19.237300872802734, -23.409500122070312, -24.103485107421875, -23.455242156982422, -25.703807830810547, -17.989910125732422, -21.11371612548828, -0.0024862352292984724, -20.974407196044922, -5.998251914978027], [-25.05379295349121, -19.516761779785156, -12.077057838439941, -5.8412379075889476e-06, -25.12089729309082, -18.202049255371094, -23.695249557495117, -17.844877243041992, -16.06867790222168, -16.59812355041504]]\n",
      "\n",
      "Predictions:  [7 1 0 3 2 0 2 9 2 5 8 4 0 4 7 3]\n"
     ]
    }
   ],
   "source": [
    "# invoke endpoint\n",
    "import boto3\n",
    "import json\n",
    "\n",
    "sm_runtime = boto3.client(\"sagemaker-runtime\")\n",
    "\n",
    "body = json.dumps(\n",
    "    {'inputs': test_images.numpy().tolist()}\n",
    ")\n",
    "content_type = \"application/json\"\n",
    "\n",
    "# respnse type\n",
    "accept = \"application/json\"\n",
    "\n",
    "res = sm_runtime.invoke_endpoint(\n",
    "    EndpointName=predictor.endpoint_name,\n",
    "    Body=body,  # encoded input data\n",
    "    ContentType=content_type,  # I told the endpoint what's the encode\n",
    "    Accept=accept,  # I told the endpoint how I want to decode its response\n",
    ")\n",
    "\n",
    "# decode the response body\n",
    "res_body = res[\"Body\"]\n",
    "pred = res_body.read().decode(\"utf-8\")\n",
    "\n",
    "print(\"Type of the response: \", type(pred))\n",
    "print()\n",
    "print(pred)\n",
    "print()\n",
    "\n",
    "# string -> list\n",
    "pred = json.loads(pred)\n",
    "\n",
    "# list -> numpy\n",
    "pred = np.array(pred, dtype=np.float32)\n",
    "\n",
    "# predicted class\n",
    "predicted = np.argmax(pred, axis=1)\n",
    "print(\"Predictions: \", predicted)"
   ]
  },
  {
   "cell_type": "markdown",
   "id": "collaborative-feeding",
   "metadata": {
    "papermill": {
     "duration": null,
     "end_time": null,
     "exception": null,
     "start_time": null,
     "status": "pending"
    },
    "tags": []
   },
   "source": [
    "## Cleanup\n",
    "\n",
    "If you don't intend on trying out inference or to do anything else with the endpoint, you should delete it."
   ]
  },
  {
   "cell_type": "code",
   "execution_count": 99,
   "id": "tender-meditation",
   "metadata": {
    "papermill": {
     "duration": null,
     "end_time": null,
     "exception": null,
     "start_time": null,
     "status": "pending"
    },
    "tags": []
   },
   "outputs": [],
   "source": [
    "predictor.delete_endpoint()"
   ]
  }
 ],
 "metadata": {
  "kernelspec": {
   "display_name": "Environment (conda_pytorch_p36)",
   "language": "python",
   "name": "conda_pytorch_p36"
  },
  "language_info": {
   "codemirror_mode": {
    "name": "ipython",
    "version": 3
   },
   "file_extension": ".py",
   "mimetype": "text/x-python",
   "name": "python",
   "nbconvert_exporter": "python",
   "pygments_lexer": "ipython3",
   "version": "3.6.10"
  },
  "papermill": {
   "default_parameters": {},
   "duration": 1.301527,
   "end_time": "2021-06-14T00:07:21.163909",
   "environment_variables": {},
   "exception": true,
   "input_path": "infer_pytorch.ipynb",
   "output_path": "/opt/ml/processing/output/infer_pytorch-2021-06-14-00-03-22.ipynb",
   "parameters": {
    "kms_key": "arn:aws:kms:us-west-2:521695447989:key/6e9984db-50cf-4c7e-926c-877ec47a8b25"
   },
   "start_time": "2021-06-14T00:07:19.862382",
   "version": "2.3.3"
  }
 },
 "nbformat": 4,
 "nbformat_minor": 5
}
