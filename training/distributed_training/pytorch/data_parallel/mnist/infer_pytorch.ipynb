{
 "cells": [
  {
   "cell_type": "markdown",
   "id": "norman-cargo",
   "metadata": {
    "papermill": {
     "duration": 0.00594,
     "end_time": "2021-06-14T00:07:20.894188",
     "exception": false,
     "start_time": "2021-06-14T00:07:20.888248",
     "status": "completed"
    },
    "tags": []
   },
   "source": [
    "# Part 2: Deploy a model trained using SageMaker distributed data parallel\n",
    "\n",
    "Use this notebook after you have completed **Part 1: Distributed data parallel MNIST training with PyTorch and SageMaker's distributed data parallel library** in the notebook pytorch_smdataparallel_mnist_demo.ipynb. To deploy the model you previously trained, you need to create a Sagemaker Endpoint. This is a hosted prediction service that you can use to perform inference.\n",
    "\n",
    "## Finding the model\n",
    "\n",
    "This notebook uses a stored model if it exists. If you recently ran a training example that use the `%store%` magic, it will be restored in the next cell.\n",
    "\n",
    "Otherwise, you can pass the URI to the model file (a .tar.gz file) in the `model_data` variable.\n",
    "\n",
    "To find the location of model files in the [SageMaker console](https://console.aws.amazon.com/sagemaker/home), do the following: \n",
    "\n",
    "1. Go to the SageMaker console: https://console.aws.amazon.com/sagemaker/home.\n",
    "1. Select **Training** in the left navigation pane and then Select **Training jobs**. \n",
    "1. Find your recent training job and choose it.\n",
    "1. In the **Output** section, you should see an S3 URI under **S3 model artifact**. Copy this S3 URI.\n",
    "1. Uncomment the `model_data` line in the next cell that manually sets the model's URI and replace the placeholder value with that S3 URI."
   ]
  },
  {
   "cell_type": "code",
   "execution_count": 66,
   "id": "sonic-pension",
   "metadata": {
    "execution": {
     "iopub.execute_input": "2021-06-14T00:07:20.910290Z",
     "iopub.status.busy": "2021-06-14T00:07:20.909520Z",
     "iopub.status.idle": "2021-06-14T00:07:20.952389Z",
     "shell.execute_reply": "2021-06-14T00:07:20.951473Z"
    },
    "papermill": {
     "duration": 0.052442,
     "end_time": "2021-06-14T00:07:20.952579",
     "exception": true,
     "start_time": "2021-06-14T00:07:20.900137",
     "status": "failed"
    },
    "tags": []
   },
   "outputs": [],
   "source": [
    "%store -r model_data\n",
    "try:\n",
    "    model_data\n",
    "except NameError:\n",
    "    model_data = 's3://sagemaker-sample-files/models/pytorch-smdataparallel-mnist-2021-06-14-23-25-29-876/output/model.tar.gz'\n",
    "    \n",
    "print(\"Using this model: {}\".format(model_data))"
   ]
  },
  {
   "cell_type": "markdown",
   "id": "civilian-gross",
   "metadata": {
    "papermill": {
     "duration": null,
     "end_time": null,
     "exception": null,
     "start_time": null,
     "status": "pending"
    },
    "tags": []
   },
   "source": [
    "## Create a model object\n",
    "\n",
    "You define the model object by using the SageMaker Python SDK's `PyTorchModel` and pass in the model from the `estimator` and the `entry_point`. The endpoint's entry point for inference is defined by `model_fn` as seen in the following code block that prints out `inference.py`. The function loads the model and sets it to use a GPU, if available."
   ]
  },
  {
   "cell_type": "code",
   "execution_count": 48,
   "id": "statutory-audience",
   "metadata": {},
   "outputs": [],
   "source": [
    "!aws s3 cp s3://sagemaker-sample-files/datasets/image/MNIST/model/pytorch-training-2020-11-21-22-02-56-203/model.tar.gz ."
   ]
  },
  {
   "cell_type": "code",
   "execution_count": 49,
   "id": "martial-amber",
   "metadata": {},
   "outputs": [],
   "source": [
    "!tar -xvzf model.tar.gz"
   ]
  },
  {
   "cell_type": "code",
   "execution_count": 50,
   "id": "shaped-headquarters",
   "metadata": {
    "papermill": {
     "duration": null,
     "end_time": null,
     "exception": null,
     "start_time": null,
     "status": "pending"
    },
    "tags": []
   },
   "outputs": [],
   "source": [
    "!pygmentize code/inference.py"
   ]
  },
  {
   "cell_type": "code",
   "execution_count": 67,
   "id": "interested-accreditation",
   "metadata": {
    "papermill": {
     "duration": null,
     "end_time": null,
     "exception": null,
     "start_time": null,
     "status": "pending"
    },
    "tags": []
   },
   "outputs": [],
   "source": [
    "import sagemaker\n",
    "\n",
    "role = sagemaker.get_execution_role()\n",
    "\n",
    "from sagemaker.pytorch import PyTorchModel\n",
    "\n",
    "model = PyTorchModel(\n",
    "    model_data=model_data,\n",
    "    source_dir=\"code\",\n",
    "    entry_point=\"inference.py\",\n",
    "    role=role,\n",
    "    framework_version=\"1.6.0\",\n",
    "    py_version=\"py3\",\n",
    ")"
   ]
  },
  {
   "cell_type": "markdown",
   "id": "verbal-posting",
   "metadata": {
    "papermill": {
     "duration": null,
     "end_time": null,
     "exception": null,
     "start_time": null,
     "status": "pending"
    },
    "tags": []
   },
   "source": [
    "### Deploy the model on an endpoint\n",
    "\n",
    "You create a `predictor` by using the `model.deploy` function. You can optionally change both the instance count and instance type."
   ]
  },
  {
   "cell_type": "code",
   "execution_count": 68,
   "id": "received-integral",
   "metadata": {
    "papermill": {
     "duration": null,
     "end_time": null,
     "exception": null,
     "start_time": null,
     "status": "pending"
    },
    "tags": []
   },
   "outputs": [],
   "source": [
    "predictor = model.deploy(\n",
    "    initial_instance_count=1, \n",
    "    instance_type=\"ml.m4.xlarge\")"
   ]
  },
  {
   "cell_type": "markdown",
   "id": "governing-provider",
   "metadata": {
    "papermill": {
     "duration": null,
     "end_time": null,
     "exception": null,
     "start_time": null,
     "status": "pending"
    },
    "tags": []
   },
   "source": [
    "## Test the model\n",
    "You can test the depolyed model using samples from the test set.\n"
   ]
  },
  {
   "cell_type": "code",
   "execution_count": 54,
   "id": "heated-nation",
   "metadata": {},
   "outputs": [],
   "source": [
    "!aws s3 cp s3://sagemaker-sample-files/datasets/image/MNIST/pytorch/ data/ --recursive"
   ]
  },
  {
   "cell_type": "code",
   "execution_count": 69,
   "id": "opened-longer",
   "metadata": {
    "papermill": {
     "duration": null,
     "end_time": null,
     "exception": null,
     "start_time": null,
     "status": "pending"
    },
    "tags": []
   },
   "outputs": [],
   "source": [
    "# Download the test set\n",
    "from torchvision import datasets, transforms\n",
    "from torch.utils.data import DataLoader\n",
    "\n",
    "\n",
    "test_set = datasets.MNIST(\n",
    "    \"data\",\n",
    "    download=False,\n",
    "    train=False,\n",
    "    transform=transforms.Compose(\n",
    "        [transforms.ToTensor(), \n",
    "         transforms.Normalize((0.1307,), (0.3081,))]\n",
    "    ),\n",
    ")\n",
    "\n",
    "\n",
    "# Randomly sample 16 images from the test set\n",
    "test_loader = DataLoader(test_set, shuffle=True, batch_size=16)\n",
    "test_images, _ = iter(test_loader).next()\n",
    "\n",
    "# inspect the images\n",
    "import torchvision\n",
    "import numpy as np\n",
    "import matplotlib.pyplot as plt\n",
    "\n",
    "%matplotlib inline\n",
    "\n",
    "\n",
    "def imshow(img):\n",
    "    img = img.numpy()\n",
    "    img = np.transpose(img, (1, 2, 0))\n",
    "    plt.imshow(img)\n",
    "    return\n",
    "\n",
    "\n",
    "# unnormalize the test images for displaying\n",
    "unnorm_images = (test_images * 0.3081) + 0.1307\n",
    "\n",
    "print(\"Sampled test images: \")\n",
    "imshow(torchvision.utils.make_grid(unnorm_images))"
   ]
  },
  {
   "cell_type": "code",
   "execution_count": 70,
   "id": "positive-albert",
   "metadata": {},
   "outputs": [],
   "source": [
    "import json\n",
    "x = json.dumps(\n",
    "    {'inputs': test_images.numpy().tolist()}\n",
    ")"
   ]
  },
  {
   "cell_type": "code",
   "execution_count": 98,
   "id": "unusual-seven",
   "metadata": {},
   "outputs": [],
   "source": [
    "# invoke endpoint\n",
    "import boto3\n",
    "import json\n",
    "\n",
    "sm_runtime = boto3.client(\"sagemaker-runtime\")\n",
    "\n",
    "body = json.dumps(\n",
    "    {'inputs': test_images.numpy().tolist()}\n",
    ")\n",
    "content_type = \"application/json\"\n",
    "\n",
    "# respnse type\n",
    "accept = \"application/json\"\n",
    "\n",
    "res = sm_runtime.invoke_endpoint(\n",
    "    EndpointName=predictor.endpoint_name,\n",
    "    Body=body,  # encoded input data\n",
    "    ContentType=content_type,  # I told the endpoint what's the encode\n",
    "    Accept=accept,  # I told the endpoint how I want to decode its response\n",
    ")\n",
    "\n",
    "# decode the response body\n",
    "res_body = res[\"Body\"]\n",
    "pred = res_body.read().decode(\"utf-8\")\n",
    "\n",
    "print(\"Type of the response: \", type(pred))\n",
    "print()\n",
    "print(pred)\n",
    "print()\n",
    "\n",
    "# string -> list\n",
    "pred = json.loads(pred)\n",
    "\n",
    "# list -> numpy\n",
    "pred = np.array(pred, dtype=np.float32)\n",
    "\n",
    "# predicted class\n",
    "predicted = np.argmax(pred, axis=1)\n",
    "print(\"Predictions: \", predicted)"
   ]
  },
  {
   "cell_type": "markdown",
   "id": "collaborative-feeding",
   "metadata": {
    "papermill": {
     "duration": null,
     "end_time": null,
     "exception": null,
     "start_time": null,
     "status": "pending"
    },
    "tags": []
   },
   "source": [
    "## Cleanup\n",
    "\n",
    "If you don't intend on trying out inference or to do anything else with the endpoint, you should delete it."
   ]
  },
  {
   "cell_type": "code",
   "execution_count": 99,
   "id": "tender-meditation",
   "metadata": {
    "papermill": {
     "duration": null,
     "end_time": null,
     "exception": null,
     "start_time": null,
     "status": "pending"
    },
    "tags": []
   },
   "outputs": [],
   "source": [
    "predictor.delete_endpoint()"
   ]
  }
 ],
 "metadata": {
  "kernelspec": {
   "display_name": "Environment (conda_pytorch_p36)",
   "language": "python",
   "name": "conda_pytorch_p36"
  },
  "language_info": {
   "codemirror_mode": {
    "name": "ipython",
    "version": 3
   },
   "file_extension": ".py",
   "mimetype": "text/x-python",
   "name": "python",
   "nbconvert_exporter": "python",
   "pygments_lexer": "ipython3",
   "version": "3.6.10"
  },
  "papermill": {
   "default_parameters": {},
   "duration": 1.301527,
   "end_time": "2021-06-14T00:07:21.163909",
   "environment_variables": {},
   "exception": true,
   "input_path": "infer_pytorch.ipynb",
   "output_path": "/opt/ml/processing/output/infer_pytorch-2021-06-14-00-03-22.ipynb",
   "parameters": {
    "kms_key": "arn:aws:kms:us-west-2:521695447989:key/6e9984db-50cf-4c7e-926c-877ec47a8b25"
   },
   "start_time": "2021-06-14T00:07:19.862382",
   "version": "2.3.3"
  }
 },
 "nbformat": 4,
 "nbformat_minor": 5
}